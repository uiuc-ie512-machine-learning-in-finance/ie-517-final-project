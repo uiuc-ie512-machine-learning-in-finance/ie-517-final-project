{
  "nbformat": 4,
  "nbformat_minor": 0,
  "metadata": {
    "colab": {
      "provenance": [],
      "collapsed_sections": [
        "t6E4t-CfK8Xy",
        "KECFoAMkFdPv",
        "UDVuy-_N2qoD"
      ],
      "toc_visible": true
    },
    "kernelspec": {
      "name": "python3",
      "display_name": "Python 3"
    },
    "language_info": {
      "name": "python"
    }
  },
  "cells": [
    {
      "cell_type": "code",
      "execution_count": 1,
      "metadata": {
        "id": "GMz7hACMzngF"
      },
      "outputs": [],
      "source": [
        "import pandas as pd\n",
        "import numpy as np\n",
        "import seaborn as sns\n",
        "import matplotlib.pyplot as plt\n"
      ]
    },
    {
      "cell_type": "code",
      "source": [
        "from google.colab import drive\n",
        "drive.mount('/content/drive')"
      ],
      "metadata": {
        "colab": {
          "base_uri": "https://localhost:8080/"
        },
        "id": "FGzw6ifZq3Cu",
        "outputId": "7072bf9f-d8ee-4db1-8f21-9d3e36b1c8ad"
      },
      "execution_count": 2,
      "outputs": [
        {
          "output_type": "stream",
          "name": "stdout",
          "text": [
            "Mounted at /content/drive\n"
          ]
        }
      ]
    },
    {
      "cell_type": "markdown",
      "source": [
        "# Explorative Data Analysis"
      ],
      "metadata": {
        "id": "eF6NlSOL2JG3"
      }
    },
    {
      "cell_type": "markdown",
      "source": [
        "## Preprocessing"
      ],
      "metadata": {
        "id": "FCPBPOzA2ME7"
      }
    },
    {
      "cell_type": "code",
      "source": [
        "credit_data = pd.read_csv(\"/content/drive/MyDrive/IE517_project_data/MLF_GP1_CreditScore.csv\")"
      ],
      "metadata": {
        "id": "kwX3DU1U0QrX"
      },
      "execution_count": 3,
      "outputs": []
    },
    {
      "cell_type": "markdown",
      "source": [
        "### Separate X and Y"
      ],
      "metadata": {
        "id": "CWKp0CHehMkl"
      }
    },
    {
      "cell_type": "code",
      "source": [
        "# Seperate Data\n",
        "X = credit_data.drop(columns = [\"InvGrd\",\"Rating\"])\n",
        "y = credit_data[[\"InvGrd\", \"Rating\"]]\n",
        "print(y.columns)"
      ],
      "metadata": {
        "id": "ZOYlXKoc0U8F",
        "colab": {
          "base_uri": "https://localhost:8080/"
        },
        "outputId": "548fc6a8-45f9-4037-831c-dba024523277"
      },
      "execution_count": 78,
      "outputs": [
        {
          "output_type": "stream",
          "name": "stdout",
          "text": [
            "Index(['InvGrd', 'Rating'], dtype='object')\n"
          ]
        }
      ]
    },
    {
      "cell_type": "code",
      "source": [
        "print(\"Dataframe shape is:\", credit_data.shape)"
      ],
      "metadata": {
        "id": "tCrwheRS2O06",
        "outputId": "6063acab-cb01-418e-bed1-28f2c6c694d5",
        "colab": {
          "base_uri": "https://localhost:8080/"
        }
      },
      "execution_count": 79,
      "outputs": [
        {
          "output_type": "stream",
          "name": "stdout",
          "text": [
            "Dataframe shape is: (1700, 28)\n"
          ]
        }
      ]
    },
    {
      "cell_type": "code",
      "source": [
        "# Check whether there is null values\n",
        "credit_data.isnull().sum().sum()"
      ],
      "metadata": {
        "id": "aZbiRrCs2Sp6",
        "colab": {
          "base_uri": "https://localhost:8080/"
        },
        "outputId": "3705f7b6-4b6b-49d6-89ec-31b09330f4c1"
      },
      "execution_count": 80,
      "outputs": [
        {
          "output_type": "execute_result",
          "data": {
            "text/plain": [
              "0"
            ]
          },
          "metadata": {},
          "execution_count": 80
        }
      ]
    },
    {
      "cell_type": "code",
      "source": [
        "y[\"Rating\"].nunique()"
      ],
      "metadata": {
        "colab": {
          "base_uri": "https://localhost:8080/"
        },
        "id": "jy5E4k2KZ_fj",
        "outputId": "fed35db0-8682-443a-e06b-fb23f59d6501"
      },
      "execution_count": 81,
      "outputs": [
        {
          "output_type": "execute_result",
          "data": {
            "text/plain": [
              "16"
            ]
          },
          "metadata": {},
          "execution_count": 81
        }
      ]
    },
    {
      "cell_type": "markdown",
      "source": [
        "### Label Encoding Reponse"
      ],
      "metadata": {
        "id": "H6gYLVRzbKiK"
      }
    },
    {
      "cell_type": "code",
      "source": [
        "from sklearn.preprocessing import LabelEncoder\n",
        "label_encoder = LabelEncoder()\n",
        "label_encoder.fit(y[\"Rating\"])\n",
        "y[\"Rating\"] = label_encoder.transform(y[\"Rating\"])\n",
        "y"
      ],
      "metadata": {
        "colab": {
          "base_uri": "https://localhost:8080/",
          "height": 528
        },
        "id": "CHaaZkcpbOjd",
        "outputId": "898cd33c-31aa-4089-88cc-f30b2c6c7234"
      },
      "execution_count": 82,
      "outputs": [
        {
          "output_type": "stream",
          "name": "stderr",
          "text": [
            "<ipython-input-82-1dfc05f460aa>:4: SettingWithCopyWarning: \n",
            "A value is trying to be set on a copy of a slice from a DataFrame.\n",
            "Try using .loc[row_indexer,col_indexer] = value instead\n",
            "\n",
            "See the caveats in the documentation: https://pandas.pydata.org/pandas-docs/stable/user_guide/indexing.html#returning-a-view-versus-a-copy\n",
            "  y[\"Rating\"] = label_encoder.transform(y[\"Rating\"])\n"
          ]
        },
        {
          "output_type": "execute_result",
          "data": {
            "text/plain": [
              "      InvGrd  Rating\n",
              "0          1       0\n",
              "1          1       0\n",
              "2          1       0\n",
              "3          1       0\n",
              "4          1       0\n",
              "...      ...     ...\n",
              "1695       0      15\n",
              "1696       0      15\n",
              "1697       0      15\n",
              "1698       0      15\n",
              "1699       0      15\n",
              "\n",
              "[1700 rows x 2 columns]"
            ],
            "text/html": [
              "\n",
              "  <div id=\"df-05fda3f0-7ca9-4825-adba-dbfccd26ee43\">\n",
              "    <div class=\"colab-df-container\">\n",
              "      <div>\n",
              "<style scoped>\n",
              "    .dataframe tbody tr th:only-of-type {\n",
              "        vertical-align: middle;\n",
              "    }\n",
              "\n",
              "    .dataframe tbody tr th {\n",
              "        vertical-align: top;\n",
              "    }\n",
              "\n",
              "    .dataframe thead th {\n",
              "        text-align: right;\n",
              "    }\n",
              "</style>\n",
              "<table border=\"1\" class=\"dataframe\">\n",
              "  <thead>\n",
              "    <tr style=\"text-align: right;\">\n",
              "      <th></th>\n",
              "      <th>InvGrd</th>\n",
              "      <th>Rating</th>\n",
              "    </tr>\n",
              "  </thead>\n",
              "  <tbody>\n",
              "    <tr>\n",
              "      <th>0</th>\n",
              "      <td>1</td>\n",
              "      <td>0</td>\n",
              "    </tr>\n",
              "    <tr>\n",
              "      <th>1</th>\n",
              "      <td>1</td>\n",
              "      <td>0</td>\n",
              "    </tr>\n",
              "    <tr>\n",
              "      <th>2</th>\n",
              "      <td>1</td>\n",
              "      <td>0</td>\n",
              "    </tr>\n",
              "    <tr>\n",
              "      <th>3</th>\n",
              "      <td>1</td>\n",
              "      <td>0</td>\n",
              "    </tr>\n",
              "    <tr>\n",
              "      <th>4</th>\n",
              "      <td>1</td>\n",
              "      <td>0</td>\n",
              "    </tr>\n",
              "    <tr>\n",
              "      <th>...</th>\n",
              "      <td>...</td>\n",
              "      <td>...</td>\n",
              "    </tr>\n",
              "    <tr>\n",
              "      <th>1695</th>\n",
              "      <td>0</td>\n",
              "      <td>15</td>\n",
              "    </tr>\n",
              "    <tr>\n",
              "      <th>1696</th>\n",
              "      <td>0</td>\n",
              "      <td>15</td>\n",
              "    </tr>\n",
              "    <tr>\n",
              "      <th>1697</th>\n",
              "      <td>0</td>\n",
              "      <td>15</td>\n",
              "    </tr>\n",
              "    <tr>\n",
              "      <th>1698</th>\n",
              "      <td>0</td>\n",
              "      <td>15</td>\n",
              "    </tr>\n",
              "    <tr>\n",
              "      <th>1699</th>\n",
              "      <td>0</td>\n",
              "      <td>15</td>\n",
              "    </tr>\n",
              "  </tbody>\n",
              "</table>\n",
              "<p>1700 rows × 2 columns</p>\n",
              "</div>\n",
              "      <button class=\"colab-df-convert\" onclick=\"convertToInteractive('df-05fda3f0-7ca9-4825-adba-dbfccd26ee43')\"\n",
              "              title=\"Convert this dataframe to an interactive table.\"\n",
              "              style=\"display:none;\">\n",
              "        \n",
              "  <svg xmlns=\"http://www.w3.org/2000/svg\" height=\"24px\"viewBox=\"0 0 24 24\"\n",
              "       width=\"24px\">\n",
              "    <path d=\"M0 0h24v24H0V0z\" fill=\"none\"/>\n",
              "    <path d=\"M18.56 5.44l.94 2.06.94-2.06 2.06-.94-2.06-.94-.94-2.06-.94 2.06-2.06.94zm-11 1L8.5 8.5l.94-2.06 2.06-.94-2.06-.94L8.5 2.5l-.94 2.06-2.06.94zm10 10l.94 2.06.94-2.06 2.06-.94-2.06-.94-.94-2.06-.94 2.06-2.06.94z\"/><path d=\"M17.41 7.96l-1.37-1.37c-.4-.4-.92-.59-1.43-.59-.52 0-1.04.2-1.43.59L10.3 9.45l-7.72 7.72c-.78.78-.78 2.05 0 2.83L4 21.41c.39.39.9.59 1.41.59.51 0 1.02-.2 1.41-.59l7.78-7.78 2.81-2.81c.8-.78.8-2.07 0-2.86zM5.41 20L4 18.59l7.72-7.72 1.47 1.35L5.41 20z\"/>\n",
              "  </svg>\n",
              "      </button>\n",
              "      \n",
              "  <style>\n",
              "    .colab-df-container {\n",
              "      display:flex;\n",
              "      flex-wrap:wrap;\n",
              "      gap: 12px;\n",
              "    }\n",
              "\n",
              "    .colab-df-convert {\n",
              "      background-color: #E8F0FE;\n",
              "      border: none;\n",
              "      border-radius: 50%;\n",
              "      cursor: pointer;\n",
              "      display: none;\n",
              "      fill: #1967D2;\n",
              "      height: 32px;\n",
              "      padding: 0 0 0 0;\n",
              "      width: 32px;\n",
              "    }\n",
              "\n",
              "    .colab-df-convert:hover {\n",
              "      background-color: #E2EBFA;\n",
              "      box-shadow: 0px 1px 2px rgba(60, 64, 67, 0.3), 0px 1px 3px 1px rgba(60, 64, 67, 0.15);\n",
              "      fill: #174EA6;\n",
              "    }\n",
              "\n",
              "    [theme=dark] .colab-df-convert {\n",
              "      background-color: #3B4455;\n",
              "      fill: #D2E3FC;\n",
              "    }\n",
              "\n",
              "    [theme=dark] .colab-df-convert:hover {\n",
              "      background-color: #434B5C;\n",
              "      box-shadow: 0px 1px 3px 1px rgba(0, 0, 0, 0.15);\n",
              "      filter: drop-shadow(0px 1px 2px rgba(0, 0, 0, 0.3));\n",
              "      fill: #FFFFFF;\n",
              "    }\n",
              "  </style>\n",
              "\n",
              "      <script>\n",
              "        const buttonEl =\n",
              "          document.querySelector('#df-05fda3f0-7ca9-4825-adba-dbfccd26ee43 button.colab-df-convert');\n",
              "        buttonEl.style.display =\n",
              "          google.colab.kernel.accessAllowed ? 'block' : 'none';\n",
              "\n",
              "        async function convertToInteractive(key) {\n",
              "          const element = document.querySelector('#df-05fda3f0-7ca9-4825-adba-dbfccd26ee43');\n",
              "          const dataTable =\n",
              "            await google.colab.kernel.invokeFunction('convertToInteractive',\n",
              "                                                     [key], {});\n",
              "          if (!dataTable) return;\n",
              "\n",
              "          const docLinkHtml = 'Like what you see? Visit the ' +\n",
              "            '<a target=\"_blank\" href=https://colab.research.google.com/notebooks/data_table.ipynb>data table notebook</a>'\n",
              "            + ' to learn more about interactive tables.';\n",
              "          element.innerHTML = '';\n",
              "          dataTable['output_type'] = 'display_data';\n",
              "          await google.colab.output.renderOutput(dataTable, element);\n",
              "          const docLink = document.createElement('div');\n",
              "          docLink.innerHTML = docLinkHtml;\n",
              "          element.appendChild(docLink);\n",
              "        }\n",
              "      </script>\n",
              "    </div>\n",
              "  </div>\n",
              "  "
            ]
          },
          "metadata": {},
          "execution_count": 82
        }
      ]
    },
    {
      "cell_type": "markdown",
      "source": [
        "### Overview of Features"
      ],
      "metadata": {
        "id": "FWuDLeH3sMe9"
      }
    },
    {
      "cell_type": "code",
      "source": [
        "credit_data.info()"
      ],
      "metadata": {
        "colab": {
          "base_uri": "https://localhost:8080/"
        },
        "id": "IIQw0qGhsEVp",
        "outputId": "1ea2bc62-d0e7-48bc-decf-975a44f20c6e"
      },
      "execution_count": 7,
      "outputs": [
        {
          "output_type": "stream",
          "name": "stdout",
          "text": [
            "<class 'pandas.core.frame.DataFrame'>\n",
            "RangeIndex: 1700 entries, 0 to 1699\n",
            "Data columns (total 28 columns):\n",
            " #   Column                    Non-Null Count  Dtype  \n",
            "---  ------                    --------------  -----  \n",
            " 0   Sales/Revenues            1700 non-null   float64\n",
            " 1   Gross Margin              1700 non-null   float64\n",
            " 2   EBITDA                    1700 non-null   float64\n",
            " 3   EBITDA Margin             1700 non-null   float64\n",
            " 4   Net Income Before Extras  1700 non-null   float64\n",
            " 5   Total Debt                1700 non-null   float64\n",
            " 6   Net Debt                  1700 non-null   float64\n",
            " 7   LT Debt                   1700 non-null   float64\n",
            " 8   ST Debt                   1700 non-null   float64\n",
            " 9   Cash                      1700 non-null   float64\n",
            " 10  Free Cash Flow            1700 non-null   float64\n",
            " 11  Total Debt/EBITDA         1700 non-null   float64\n",
            " 12  Net Debt/EBITDA           1700 non-null   float64\n",
            " 13  Total MV                  1700 non-null   float64\n",
            " 14  Total Debt/MV             1700 non-null   float64\n",
            " 15  Net Debt/MV               1700 non-null   float64\n",
            " 16  CFO/Debt                  1700 non-null   float64\n",
            " 17  CFO                       1700 non-null   float64\n",
            " 18  Interest Coverage         1700 non-null   float64\n",
            " 19  Total Liquidity           1700 non-null   float64\n",
            " 20  Current Liquidity         1700 non-null   float64\n",
            " 21  Current Liabilities       1700 non-null   float64\n",
            " 22  EPS Before Extras         1700 non-null   float64\n",
            " 23  PE                        1700 non-null   float64\n",
            " 24  ROA                       1700 non-null   float64\n",
            " 25  ROE                       1700 non-null   float64\n",
            " 26  InvGrd                    1700 non-null   int64  \n",
            " 27  Rating                    1700 non-null   object \n",
            "dtypes: float64(26), int64(1), object(1)\n",
            "memory usage: 372.0+ KB\n"
          ]
        }
      ]
    },
    {
      "cell_type": "code",
      "source": [
        "# Targets are not balance but still acceptable. Not an extreme situation.\n",
        "np.mean(credit_data[\"InvGrd\"])"
      ],
      "metadata": {
        "colab": {
          "base_uri": "https://localhost:8080/"
        },
        "id": "gGfrZt3RXc33",
        "outputId": "7a19f49b-8bc1-42f2-8113-c34877c15a5e"
      },
      "execution_count": 8,
      "outputs": [
        {
          "output_type": "execute_result",
          "data": {
            "text/plain": [
              "0.7570588235294118"
            ]
          },
          "metadata": {},
          "execution_count": 8
        }
      ]
    },
    {
      "cell_type": "markdown",
      "source": [
        "### Correlation Matrix Heat Plot for Features\n",
        "From correlation matrix plot we could tell that most of the features are not highly correlated. Only few of them have correlation higher than 0.6."
      ],
      "metadata": {
        "id": "aDGqnX6PsQ7n"
      }
    },
    {
      "cell_type": "code",
      "source": [
        "##EDA 03:Coefficient&heatmap\n",
        "corr = X.corr()\n",
        "sns.heatmap(corr, cmap='coolwarm')"
      ],
      "metadata": {
        "id": "36ly0RDLRUjz",
        "colab": {
          "base_uri": "https://localhost:8080/",
          "height": 404
        },
        "outputId": "7fd20792-a702-4a27-ada8-7bf51f3fbb51"
      },
      "execution_count": 9,
      "outputs": [
        {
          "output_type": "execute_result",
          "data": {
            "text/plain": [
              "<AxesSubplot:>"
            ]
          },
          "metadata": {},
          "execution_count": 9
        },
        {
          "output_type": "display_data",
          "data": {
            "text/plain": [
              "<Figure size 432x288 with 2 Axes>"
            ],
            "image/png": "[encoded data removed]"
          },
          "metadata": {
            "needs_background": "light"
          }
        }
      ]
    },
    {
      "cell_type": "markdown",
      "source": [
        "## Split Train and Test Data\n",
        "We will fit tune our model only based on the training dataset. We use test data for the final measurement of model performance."
      ],
      "metadata": {
        "id": "iUtbTEuzDSPW"
      }
    },
    {
      "cell_type": "code",
      "source": [
        "#Train Test Split\n",
        "from sklearn.model_selection import train_test_split\n",
        "X_train, X_test, y_train, y_test = train_test_split(X, y, test_size = 0.2, random_state = 1)\n",
        "# \"data\" is part of the dataset that we will used to fit and select models\n",
        "data = pd.concat([X_train, y_train], axis=1)\n",
        "data"
      ],
      "metadata": {
        "id": "jMT2tLC7fpH5",
        "colab": {
          "base_uri": "https://localhost:8080/",
          "height": 540
        },
        "outputId": "33905035-c3d6-4bb6-da76-68385fc5730d"
      },
      "execution_count": 10,
      "outputs": [
        {
          "output_type": "execute_result",
          "data": {
            "text/plain": [
              "      Sales/Revenues  Gross Margin    EBITDA  EBITDA Margin  \\\n",
              "228         0.051153      0.009513  0.009719      -0.039417   \n",
              "1540        0.079824      0.005758  0.120793       0.037950   \n",
              "1010        0.104464      0.000007  0.121539       0.015460   \n",
              "779         0.132708     -0.786051  0.032300      -0.088646   \n",
              "286        -0.072122     -0.034358 -0.128965      -0.061261   \n",
              "...              ...           ...       ...            ...   \n",
              "715        -0.455629      0.017785 -0.547656      -0.169054   \n",
              "905         0.009625     -0.011626 -0.023721      -0.033022   \n",
              "1096        0.018212      0.041144  0.147425       0.126901   \n",
              "235         0.055637      0.032434  0.063642       0.007584   \n",
              "1061       -0.385926     -0.046680 -0.398639      -0.020702   \n",
              "\n",
              "      Net Income Before Extras  Total Debt  Net Debt    LT Debt    ST Debt  \\\n",
              "228                   0.043306   -0.081896 -0.098199  -0.005713  -0.477641   \n",
              "1540                  0.496423    0.109375  0.113158   0.145528  -0.336177   \n",
              "1010                  0.211941    0.117657 -0.540550  -0.225255  98.403519   \n",
              "779                  -0.060162    0.136337  0.085602   0.134280   0.445498   \n",
              "286                   0.012561    0.111454  0.101815  -0.104462   2.386702   \n",
              "...                        ...         ...       ...        ...        ...   \n",
              "715                  -1.831508    0.107761  0.246248   0.417830  -0.948027   \n",
              "905                   1.667963   -0.026977 -0.026541  -0.019923  -0.337005   \n",
              "1096                  0.119355   -0.314328 -0.187545  -0.343146  -0.280645   \n",
              "235                   0.049386    1.326256  2.386784   0.591562   7.786836   \n",
              "1061                 -0.505892    3.777695  4.410110  17.608985  -0.201532   \n",
              "\n",
              "          Cash  ...  Interest Coverage  Total Liquidity  Current Liquidity  \\\n",
              "228  -0.042780  ...           0.169148         0.486044          -0.119223   \n",
              "1540 -0.077419  ...           0.109136        -0.429234          -0.100276   \n",
              "1010  0.538786  ...           0.100761        -0.022369          -0.221309   \n",
              "779   0.614543  ...          -0.110692         0.627053           0.485570   \n",
              "286   0.185884  ...          -0.148130        -6.630044          -0.220575   \n",
              "...        ...  ...                ...              ...                ...   \n",
              "715  -0.034455  ...          -0.444315         0.744217           0.462160   \n",
              "905  -0.115967  ...           0.299860        -0.398990          -0.078155   \n",
              "1096 -0.589623  ...           0.797171         0.387755          -0.536410   \n",
              "235  -0.899195  ...          -0.164205        -4.919003          -0.932673   \n",
              "1061  0.310843  ...           1.193794        -0.328554           2.447185   \n",
              "\n",
              "      Current Liabilities  EPS Before Extras        PE       ROA       ROE  \\\n",
              "228              0.086789           0.041667 -0.135278 -0.004420 -0.005427   \n",
              "1540             0.025414           0.535714 -0.497838  0.382071  0.233542   \n",
              "1010             0.976117           0.209302 -0.006053  0.122702  0.069820   \n",
              "779              0.086816          -0.088665  1.571777 -0.178594 -0.270701   \n",
              "286              0.521486           0.012193  0.066909 -0.099472  0.015987   \n",
              "...                   ...                ...       ...       ...       ...   \n",
              "715             -0.339645          -1.773519 -1.800414 -1.951884 -1.943257   \n",
              "905             -0.041056           1.855263 -0.646266  1.634425  1.713981   \n",
              "1096            -0.114784           0.127139 -0.043454  0.228856  0.091574   \n",
              "235              0.497253           0.113772  0.766830 -0.105733  0.084815   \n",
              "1061            -0.619742          -0.498350  0.732750 -0.386758  0.366352   \n",
              "\n",
              "      InvGrd  Rating  \n",
              "228        1      A2  \n",
              "1540       1    Baa3  \n",
              "1010       1    Baa1  \n",
              "779        0     Ba2  \n",
              "286        1      A3  \n",
              "...      ...     ...  \n",
              "715        0     Ba1  \n",
              "905        0     Ba3  \n",
              "1096       1    Baa1  \n",
              "235        1      A2  \n",
              "1061       1    Baa1  \n",
              "\n",
              "[1360 rows x 28 columns]"
            ],
            "text/html": [
              "\n",
              "  <div id=\"df-0b1915bc-1bf4-444e-9d65-43e87770a60a\">\n",
              "    <div class=\"colab-df-container\">\n",
              "      <div>\n",
              "<style scoped>\n",
              "    .dataframe tbody tr th:only-of-type {\n",
              "        vertical-align: middle;\n",
              "    }\n",
              "\n",
              "    .dataframe tbody tr th {\n",
              "        vertical-align: top;\n",
              "    }\n",
              "\n",
              "    .dataframe thead th {\n",
              "        text-align: right;\n",
              "    }\n",
              "</style>\n",
              "<table border=\"1\" class=\"dataframe\">\n",
              "  <thead>\n",
              "    <tr style=\"text-align: right;\">\n",
              "      <th></th>\n",
              "      <th>Sales/Revenues</th>\n",
              "      <th>Gross Margin</th>\n",
              "      <th>EBITDA</th>\n",
              "      <th>EBITDA Margin</th>\n",
              "      <th>Net Income Before Extras</th>\n",
              "      <th>Total Debt</th>\n",
              "      <th>Net Debt</th>\n",
              "      <th>LT Debt</th>\n",
              "      <th>ST Debt</th>\n",
              "      <th>Cash</th>\n",
              "      <th>...</th>\n",
              "      <th>Interest Coverage</th>\n",
              "      <th>Total Liquidity</th>\n",
              "      <th>Current Liquidity</th>\n",
              "      <th>Current Liabilities</th>\n",
              "      <th>EPS Before Extras</th>\n",
              "      <th>PE</th>\n",
              "      <th>ROA</th>\n",
              "      <th>ROE</th>\n",
              "      <th>InvGrd</th>\n",
              "      <th>Rating</th>\n",
              "    </tr>\n",
              "  </thead>\n",
              "  <tbody>\n",
              "    <tr>\n",
              "      <th>228</th>\n",
              "      <td>0.051153</td>\n",
              "      <td>0.009513</td>\n",
              "      <td>0.009719</td>\n",
              "      <td>-0.039417</td>\n",
              "      <td>0.043306</td>\n",
              "      <td>-0.081896</td>\n",
              "      <td>-0.098199</td>\n",
              "      <td>-0.005713</td>\n",
              "      <td>-0.477641</td>\n",
              "      <td>-0.042780</td>\n",
              "      <td>...</td>\n",
              "      <td>0.169148</td>\n",
              "      <td>0.486044</td>\n",
              "      <td>-0.119223</td>\n",
              "      <td>0.086789</td>\n",
              "      <td>0.041667</td>\n",
              "      <td>-0.135278</td>\n",
              "      <td>-0.004420</td>\n",
              "      <td>-0.005427</td>\n",
              "      <td>1</td>\n",
              "      <td>A2</td>\n",
              "    </tr>\n",
              "    <tr>\n",
              "      <th>1540</th>\n",
              "      <td>0.079824</td>\n",
              "      <td>0.005758</td>\n",
              "      <td>0.120793</td>\n",
              "      <td>0.037950</td>\n",
              "      <td>0.496423</td>\n",
              "      <td>0.109375</td>\n",
              "      <td>0.113158</td>\n",
              "      <td>0.145528</td>\n",
              "      <td>-0.336177</td>\n",
              "      <td>-0.077419</td>\n",
              "      <td>...</td>\n",
              "      <td>0.109136</td>\n",
              "      <td>-0.429234</td>\n",
              "      <td>-0.100276</td>\n",
              "      <td>0.025414</td>\n",
              "      <td>0.535714</td>\n",
              "      <td>-0.497838</td>\n",
              "      <td>0.382071</td>\n",
              "      <td>0.233542</td>\n",
              "      <td>1</td>\n",
              "      <td>Baa3</td>\n",
              "    </tr>\n",
              "    <tr>\n",
              "      <th>1010</th>\n",
              "      <td>0.104464</td>\n",
              "      <td>0.000007</td>\n",
              "      <td>0.121539</td>\n",
              "      <td>0.015460</td>\n",
              "      <td>0.211941</td>\n",
              "      <td>0.117657</td>\n",
              "      <td>-0.540550</td>\n",
              "      <td>-0.225255</td>\n",
              "      <td>98.403519</td>\n",
              "      <td>0.538786</td>\n",
              "      <td>...</td>\n",
              "      <td>0.100761</td>\n",
              "      <td>-0.022369</td>\n",
              "      <td>-0.221309</td>\n",
              "      <td>0.976117</td>\n",
              "      <td>0.209302</td>\n",
              "      <td>-0.006053</td>\n",
              "      <td>0.122702</td>\n",
              "      <td>0.069820</td>\n",
              "      <td>1</td>\n",
              "      <td>Baa1</td>\n",
              "    </tr>\n",
              "    <tr>\n",
              "      <th>779</th>\n",
              "      <td>0.132708</td>\n",
              "      <td>-0.786051</td>\n",
              "      <td>0.032300</td>\n",
              "      <td>-0.088646</td>\n",
              "      <td>-0.060162</td>\n",
              "      <td>0.136337</td>\n",
              "      <td>0.085602</td>\n",
              "      <td>0.134280</td>\n",
              "      <td>0.445498</td>\n",
              "      <td>0.614543</td>\n",
              "      <td>...</td>\n",
              "      <td>-0.110692</td>\n",
              "      <td>0.627053</td>\n",
              "      <td>0.485570</td>\n",
              "      <td>0.086816</td>\n",
              "      <td>-0.088665</td>\n",
              "      <td>1.571777</td>\n",
              "      <td>-0.178594</td>\n",
              "      <td>-0.270701</td>\n",
              "      <td>0</td>\n",
              "      <td>Ba2</td>\n",
              "    </tr>\n",
              "    <tr>\n",
              "      <th>286</th>\n",
              "      <td>-0.072122</td>\n",
              "      <td>-0.034358</td>\n",
              "      <td>-0.128965</td>\n",
              "      <td>-0.061261</td>\n",
              "      <td>0.012561</td>\n",
              "      <td>0.111454</td>\n",
              "      <td>0.101815</td>\n",
              "      <td>-0.104462</td>\n",
              "      <td>2.386702</td>\n",
              "      <td>0.185884</td>\n",
              "      <td>...</td>\n",
              "      <td>-0.148130</td>\n",
              "      <td>-6.630044</td>\n",
              "      <td>-0.220575</td>\n",
              "      <td>0.521486</td>\n",
              "      <td>0.012193</td>\n",
              "      <td>0.066909</td>\n",
              "      <td>-0.099472</td>\n",
              "      <td>0.015987</td>\n",
              "      <td>1</td>\n",
              "      <td>A3</td>\n",
              "    </tr>\n",
              "    <tr>\n",
              "      <th>...</th>\n",
              "      <td>...</td>\n",
              "      <td>...</td>\n",
              "      <td>...</td>\n",
              "      <td>...</td>\n",
              "      <td>...</td>\n",
              "      <td>...</td>\n",
              "      <td>...</td>\n",
              "      <td>...</td>\n",
              "      <td>...</td>\n",
              "      <td>...</td>\n",
              "      <td>...</td>\n",
              "      <td>...</td>\n",
              "      <td>...</td>\n",
              "      <td>...</td>\n",
              "      <td>...</td>\n",
              "      <td>...</td>\n",
              "      <td>...</td>\n",
              "      <td>...</td>\n",
              "      <td>...</td>\n",
              "      <td>...</td>\n",
              "      <td>...</td>\n",
              "    </tr>\n",
              "    <tr>\n",
              "      <th>715</th>\n",
              "      <td>-0.455629</td>\n",
              "      <td>0.017785</td>\n",
              "      <td>-0.547656</td>\n",
              "      <td>-0.169054</td>\n",
              "      <td>-1.831508</td>\n",
              "      <td>0.107761</td>\n",
              "      <td>0.246248</td>\n",
              "      <td>0.417830</td>\n",
              "      <td>-0.948027</td>\n",
              "      <td>-0.034455</td>\n",
              "      <td>...</td>\n",
              "      <td>-0.444315</td>\n",
              "      <td>0.744217</td>\n",
              "      <td>0.462160</td>\n",
              "      <td>-0.339645</td>\n",
              "      <td>-1.773519</td>\n",
              "      <td>-1.800414</td>\n",
              "      <td>-1.951884</td>\n",
              "      <td>-1.943257</td>\n",
              "      <td>0</td>\n",
              "      <td>Ba1</td>\n",
              "    </tr>\n",
              "    <tr>\n",
              "      <th>905</th>\n",
              "      <td>0.009625</td>\n",
              "      <td>-0.011626</td>\n",
              "      <td>-0.023721</td>\n",
              "      <td>-0.033022</td>\n",
              "      <td>1.667963</td>\n",
              "      <td>-0.026977</td>\n",
              "      <td>-0.026541</td>\n",
              "      <td>-0.019923</td>\n",
              "      <td>-0.337005</td>\n",
              "      <td>-0.115967</td>\n",
              "      <td>...</td>\n",
              "      <td>0.299860</td>\n",
              "      <td>-0.398990</td>\n",
              "      <td>-0.078155</td>\n",
              "      <td>-0.041056</td>\n",
              "      <td>1.855263</td>\n",
              "      <td>-0.646266</td>\n",
              "      <td>1.634425</td>\n",
              "      <td>1.713981</td>\n",
              "      <td>0</td>\n",
              "      <td>Ba3</td>\n",
              "    </tr>\n",
              "    <tr>\n",
              "      <th>1096</th>\n",
              "      <td>0.018212</td>\n",
              "      <td>0.041144</td>\n",
              "      <td>0.147425</td>\n",
              "      <td>0.126901</td>\n",
              "      <td>0.119355</td>\n",
              "      <td>-0.314328</td>\n",
              "      <td>-0.187545</td>\n",
              "      <td>-0.343146</td>\n",
              "      <td>-0.280645</td>\n",
              "      <td>-0.589623</td>\n",
              "      <td>...</td>\n",
              "      <td>0.797171</td>\n",
              "      <td>0.387755</td>\n",
              "      <td>-0.536410</td>\n",
              "      <td>-0.114784</td>\n",
              "      <td>0.127139</td>\n",
              "      <td>-0.043454</td>\n",
              "      <td>0.228856</td>\n",
              "      <td>0.091574</td>\n",
              "      <td>1</td>\n",
              "      <td>Baa1</td>\n",
              "    </tr>\n",
              "    <tr>\n",
              "      <th>235</th>\n",
              "      <td>0.055637</td>\n",
              "      <td>0.032434</td>\n",
              "      <td>0.063642</td>\n",
              "      <td>0.007584</td>\n",
              "      <td>0.049386</td>\n",
              "      <td>1.326256</td>\n",
              "      <td>2.386784</td>\n",
              "      <td>0.591562</td>\n",
              "      <td>7.786836</td>\n",
              "      <td>-0.899195</td>\n",
              "      <td>...</td>\n",
              "      <td>-0.164205</td>\n",
              "      <td>-4.919003</td>\n",
              "      <td>-0.932673</td>\n",
              "      <td>0.497253</td>\n",
              "      <td>0.113772</td>\n",
              "      <td>0.766830</td>\n",
              "      <td>-0.105733</td>\n",
              "      <td>0.084815</td>\n",
              "      <td>1</td>\n",
              "      <td>A2</td>\n",
              "    </tr>\n",
              "    <tr>\n",
              "      <th>1061</th>\n",
              "      <td>-0.385926</td>\n",
              "      <td>-0.046680</td>\n",
              "      <td>-0.398639</td>\n",
              "      <td>-0.020702</td>\n",
              "      <td>-0.505892</td>\n",
              "      <td>3.777695</td>\n",
              "      <td>4.410110</td>\n",
              "      <td>17.608985</td>\n",
              "      <td>-0.201532</td>\n",
              "      <td>0.310843</td>\n",
              "      <td>...</td>\n",
              "      <td>1.193794</td>\n",
              "      <td>-0.328554</td>\n",
              "      <td>2.447185</td>\n",
              "      <td>-0.619742</td>\n",
              "      <td>-0.498350</td>\n",
              "      <td>0.732750</td>\n",
              "      <td>-0.386758</td>\n",
              "      <td>0.366352</td>\n",
              "      <td>1</td>\n",
              "      <td>Baa1</td>\n",
              "    </tr>\n",
              "  </tbody>\n",
              "</table>\n",
              "<p>1360 rows × 28 columns</p>\n",
              "</div>\n",
              "      <button class=\"colab-df-convert\" onclick=\"convertToInteractive('df-0b1915bc-1bf4-444e-9d65-43e87770a60a')\"\n",
              "              title=\"Convert this dataframe to an interactive table.\"\n",
              "              style=\"display:none;\">\n",
              "        \n",
              "  <svg xmlns=\"http://www.w3.org/2000/svg\" height=\"24px\"viewBox=\"0 0 24 24\"\n",
              "       width=\"24px\">\n",
              "    <path d=\"M0 0h24v24H0V0z\" fill=\"none\"/>\n",
              "    <path d=\"M18.56 5.44l.94 2.06.94-2.06 2.06-.94-2.06-.94-.94-2.06-.94 2.06-2.06.94zm-11 1L8.5 8.5l.94-2.06 2.06-.94-2.06-.94L8.5 2.5l-.94 2.06-2.06.94zm10 10l.94 2.06.94-2.06 2.06-.94-2.06-.94-.94-2.06-.94 2.06-2.06.94z\"/><path d=\"M17.41 7.96l-1.37-1.37c-.4-.4-.92-.59-1.43-.59-.52 0-1.04.2-1.43.59L10.3 9.45l-7.72 7.72c-.78.78-.78 2.05 0 2.83L4 21.41c.39.39.9.59 1.41.59.51 0 1.02-.2 1.41-.59l7.78-7.78 2.81-2.81c.8-.78.8-2.07 0-2.86zM5.41 20L4 18.59l7.72-7.72 1.47 1.35L5.41 20z\"/>\n",
              "  </svg>\n",
              "      </button>\n",
              "      \n",
              "  <style>\n",
              "    .colab-df-container {\n",
              "      display:flex;\n",
              "      flex-wrap:wrap;\n",
              "      gap: 12px;\n",
              "    }\n",
              "\n",
              "    .colab-df-convert {\n",
              "      background-color: #E8F0FE;\n",
              "      border: none;\n",
              "      border-radius: 50%;\n",
              "      cursor: pointer;\n",
              "      display: none;\n",
              "      fill: #1967D2;\n",
              "      height: 32px;\n",
              "      padding: 0 0 0 0;\n",
              "      width: 32px;\n",
              "    }\n",
              "\n",
              "    .colab-df-convert:hover {\n",
              "      background-color: #E2EBFA;\n",
              "      box-shadow: 0px 1px 2px rgba(60, 64, 67, 0.3), 0px 1px 3px 1px rgba(60, 64, 67, 0.15);\n",
              "      fill: #174EA6;\n",
              "    }\n",
              "\n",
              "    [theme=dark] .colab-df-convert {\n",
              "      background-color: #3B4455;\n",
              "      fill: #D2E3FC;\n",
              "    }\n",
              "\n",
              "    [theme=dark] .colab-df-convert:hover {\n",
              "      background-color: #434B5C;\n",
              "      box-shadow: 0px 1px 3px 1px rgba(0, 0, 0, 0.15);\n",
              "      filter: drop-shadow(0px 1px 2px rgba(0, 0, 0, 0.3));\n",
              "      fill: #FFFFFF;\n",
              "    }\n",
              "  </style>\n",
              "\n",
              "      <script>\n",
              "        const buttonEl =\n",
              "          document.querySelector('#df-0b1915bc-1bf4-444e-9d65-43e87770a60a button.colab-df-convert');\n",
              "        buttonEl.style.display =\n",
              "          google.colab.kernel.accessAllowed ? 'block' : 'none';\n",
              "\n",
              "        async function convertToInteractive(key) {\n",
              "          const element = document.querySelector('#df-0b1915bc-1bf4-444e-9d65-43e87770a60a');\n",
              "          const dataTable =\n",
              "            await google.colab.kernel.invokeFunction('convertToInteractive',\n",
              "                                                     [key], {});\n",
              "          if (!dataTable) return;\n",
              "\n",
              "          const docLinkHtml = 'Like what you see? Visit the ' +\n",
              "            '<a target=\"_blank\" href=https://colab.research.google.com/notebooks/data_table.ipynb>data table notebook</a>'\n",
              "            + ' to learn more about interactive tables.';\n",
              "          element.innerHTML = '';\n",
              "          dataTable['output_type'] = 'display_data';\n",
              "          await google.colab.output.renderOutput(dataTable, element);\n",
              "          const docLink = document.createElement('div');\n",
              "          docLink.innerHTML = docLinkHtml;\n",
              "          element.appendChild(docLink);\n",
              "        }\n",
              "      </script>\n",
              "    </div>\n",
              "  </div>\n",
              "  "
            ]
          },
          "metadata": {},
          "execution_count": 10
        }
      ]
    },
    {
      "cell_type": "markdown",
      "source": [
        "# Feature Engineering"
      ],
      "metadata": {
        "id": "5MBM3xJE2dpL"
      }
    },
    {
      "cell_type": "markdown",
      "source": [
        "### Outlier Detection\n",
        "We utilize boxplot to have a quick view of potential outliers. From the following grid of box plots, we can see there are many outliers in each features."
      ],
      "metadata": {
        "id": "P0WrAOIfD4TS"
      }
    },
    {
      "cell_type": "code",
      "source": [
        "fig, axes = plt.subplots(nrows=5, ncols=6, figsize=(20, 15))\n",
        "for i, feature in enumerate(data.drop(columns=[\"InvGrd\", \"Rating\"])):\n",
        "  row = i // 6\n",
        "  col = i % 6\n",
        "  axes[row, col].boxplot(data[feature])\n",
        "  axes[row, col].boxplot(data[feature])\n",
        "plt.show()"
      ],
      "metadata": {
        "colab": {
          "base_uri": "https://localhost:8080/",
          "height": 866
        },
        "id": "-l_iiiwOD3eU",
        "outputId": "766c6087-9d9a-4adb-ef6f-465e59e60f48"
      },
      "execution_count": 11,
      "outputs": [
        {
          "output_type": "display_data",
          "data": {
            "text/plain": [
              "<Figure size 1440x1080 with 30 Axes>"
            ],
            "image/png": "[encoded data removed]"
          },
          "metadata": {
            "needs_background": "light"
          }
        }
      ]
    },
    {
      "cell_type": "markdown",
      "source": [
        "## Winsorize Outliers\n",
        "Winsorize data that is outer than 95% percent of original data"
      ],
      "metadata": {
        "id": "rKmt-3cnFcCh"
      }
    },
    {
      "cell_type": "code",
      "source": [
        "from scipy.stats.mstats import winsorize\n",
        "\n",
        "def winsorize_outliers(X_train):\n",
        "  pct_95 = np.percentile(X_train, 95, axis=0)\n",
        "\n",
        "  # list of boolean\n",
        "  outlier_cols = np.any(X_train > pct_95, axis=0).tolist()\n",
        "\n",
        "  if np.any(outlier_cols):\n",
        "    X_winsorized = X_train.copy()\n",
        "    X_winsorized.loc[:, outlier_cols] = winsorize(X_train.loc[:, outlier_cols].values, limits=(0, 0.05))\n",
        "    X_winsorized = pd.DataFrame(X_winsorized, columns=X_train.columns)\n",
        "    return X_winsorized\n",
        "  else:\n",
        "    return X_train"
      ],
      "metadata": {
        "id": "fVqeCY9LFfuH"
      },
      "execution_count": 12,
      "outputs": []
    },
    {
      "cell_type": "code",
      "source": [
        "X_winsorized = winsorize_outliers(data.drop(columns=[\"InvGrd\", \"Rating\"]))\n",
        "fig, axes = plt.subplots(nrows=5, ncols=6, figsize=(20, 15))\n",
        "for i, feature in enumerate(X_winsorized):\n",
        "  row = i // 6\n",
        "  col = i % 6\n",
        "  axes[row, col].boxplot(X_winsorized[feature])\n",
        "  axes[row, col].boxplot(X_winsorized[feature])\n",
        "plt.show()"
      ],
      "metadata": {
        "colab": {
          "base_uri": "https://localhost:8080/",
          "height": 863
        },
        "id": "uosSFQY-GeiX",
        "outputId": "516be937-5039-492f-dfd0-7c86aaacad42"
      },
      "execution_count": 13,
      "outputs": [
        {
          "output_type": "display_data",
          "data": {
            "text/plain": [
              "<Figure size 1440x1080 with 30 Axes>"
            ],
            "image/png": "[encoded data removed]"
          },
          "metadata": {
            "needs_background": "light"
          }
        }
      ]
    },
    {
      "cell_type": "markdown",
      "source": [
        "## Feature Extraction\n",
        "After examine the data, we found features have been already well scaled. To be honest, since all features are numeric, well scaled and have relative low crrelation, there is less room for feature engineering. Thus, we probably will give the LDA and PCA models a try. Then move on to the model fitting and evaluation process."
      ],
      "metadata": {
        "id": "M4Ywefh52fhV"
      }
    },
    {
      "cell_type": "markdown",
      "source": [
        "### Linear Discriminant Alayasis (for binary classification)\n",
        "We use LDA model to create a single factor as linear combination of original ones as a new feature. After we fit this LDA model on our training data, we could apply it to our validate data to extract a new feature."
      ],
      "metadata": {
        "id": "3mID4m0mta6e"
      }
    },
    {
      "cell_type": "code",
      "source": [
        "##LDA InvGrd\n",
        "from sklearn.discriminant_analysis import LinearDiscriminantAnalysis\n",
        "\n",
        "def generate_LDA_feature(X, lda):\n",
        "  new_X = X.copy()\n",
        "  new_X[\"LDA_feature\"] = lda.transform(X).flatten()\n",
        "  return new_X\n"
      ],
      "metadata": {
        "id": "G_nKGk61tkJy"
      },
      "execution_count": 14,
      "outputs": []
    },
    {
      "cell_type": "markdown",
      "source": [
        "### Principle Components Analysis (for multiclass classification)"
      ],
      "metadata": {
        "id": "UQS7pAtseETq"
      }
    },
    {
      "cell_type": "code",
      "source": [
        "from sklearn.decomposition import PCA\n",
        "# PCA model for rating target. Since there are too many categoreis in the target, we might not have sufficient data to conduct well-fit LDA\n",
        "# Thus, we decide to use PCA to extract new features.\n",
        "PCA_R = PCA(n_components=10)\n",
        "PCA_R.fit(X_train)\n",
        "plt.plot(PCA_R.explained_variance_ratio_)"
      ],
      "metadata": {
        "colab": {
          "base_uri": "https://localhost:8080/",
          "height": 282
        },
        "id": "qu7R2EbGeR06",
        "outputId": "05b12ae5-770d-437c-f463-aec8f1d43a44"
      },
      "execution_count": 15,
      "outputs": [
        {
          "output_type": "execute_result",
          "data": {
            "text/plain": [
              "[<matplotlib.lines.Line2D at 0x7f781157b910>]"
            ]
          },
          "metadata": {},
          "execution_count": 15
        },
        {
          "output_type": "display_data",
          "data": {
            "text/plain": [
              "<Figure size 432x288 with 1 Axes>"
            ],
            "image/png": "[encoded data removed]"
          },
          "metadata": {
            "needs_background": "light"
          }
        }
      ]
    },
    {
      "cell_type": "code",
      "source": [
        "# The followings are the extracted PCA features, remember to add it back.\n",
        "# PCA_R.transform(X_train)[:, :4]"
      ],
      "metadata": {
        "id": "qcaDdfDO5lUW"
      },
      "execution_count": 16,
      "outputs": []
    },
    {
      "cell_type": "markdown",
      "source": [
        "## Feature Selection\n",
        "For binary classification task, we plan to fit logistic regression, KNN, and randomforest model. <br> Thus, we could use L1 regularization to select features, or use feature importance.<br>"
      ],
      "metadata": {
        "id": "Y5n0g3bLwSB1"
      }
    },
    {
      "cell_type": "markdown",
      "source": [
        "# Model Fitting and Hyperparameters Tuning"
      ],
      "metadata": {
        "id": "B6KSsI4l2mlH"
      }
    },
    {
      "cell_type": "markdown",
      "source": [
        "## Define Cross Validation Methods."
      ],
      "metadata": {
        "id": "t6E4t-CfK8Xy"
      }
    },
    {
      "cell_type": "code",
      "source": [
        "from sklearn.metrics import roc_auc_score\n",
        "from sklearn.model_selection import KFold, cross_val_score\n",
        "# input data is training set\n",
        "def cross_val(model, data, target):\n",
        "  kf = KFold(n_splits=10, shuffle=True, random_state=42)\n",
        "  X = data.drop(columns=[\"Rating\", \"InvGrd\"])\n",
        "  y = data[[\"Rating\", \"InvGrd\"]]\n",
        "  auc_scores = cross_val_score(logi, X, y[target], cv=kf, scoring='roc_auc')\n",
        "  print('AUC scores:', auc_scores)\n",
        "  print('Mean AUC score:', auc_scores.mean())\n"
      ],
      "metadata": {
        "id": "8vRdMYPCK69v"
      },
      "execution_count": 17,
      "outputs": []
    },
    {
      "cell_type": "markdown",
      "source": [
        "## Logistic Regression"
      ],
      "metadata": {
        "id": "pCRRjQez2oIs"
      }
    },
    {
      "cell_type": "markdown",
      "source": [
        "### Binary classification"
      ],
      "metadata": {
        "id": "jwDBTP_SciPR"
      }
    },
    {
      "cell_type": "code",
      "source": [
        "from sklearn.linear_model import LogisticRegression\n",
        "\n",
        "# Baseline model: directly fit the logistic regression\n",
        "logi = LogisticRegression(solver='liblinear')\n",
        "\n",
        "cross_val(logi, data, \"InvGrd\")"
      ],
      "metadata": {
        "colab": {
          "base_uri": "https://localhost:8080/"
        },
        "id": "7hUJOQJpDwNK",
        "outputId": "a84a8e14-b63a-4622-e169-066cddcc4fd6"
      },
      "execution_count": 18,
      "outputs": [
        {
          "output_type": "stream",
          "name": "stdout",
          "text": [
            "AUC scores: [0.5667686  0.66836735 0.54785691 0.69706735 0.67156863 0.60851761\n",
            " 0.6740682  0.640625   0.71932921 0.76960784]\n",
            "Mean AUC score: 0.6563776710665256\n"
          ]
        }
      ]
    },
    {
      "cell_type": "code",
      "source": [
        "# Model 1: winsorize outlier\n",
        "winsorized_data = pd.concat([winsorize_outliers(data.drop(columns=[\"Rating\", \"InvGrd\"])), data[[\"InvGrd\", \"Rating\"]]], axis=1)\n",
        "cross_val(\n",
        "    LogisticRegression(solver='liblinear'),\n",
        "    winsorized_data,\n",
        "    \"InvGrd\"\n",
        ")"
      ],
      "metadata": {
        "colab": {
          "base_uri": "https://localhost:8080/"
        },
        "id": "M3Hy5VC1-2tD",
        "outputId": "298c2358-3f4c-4c09-ff54-9d2621373472"
      },
      "execution_count": 19,
      "outputs": [
        {
          "output_type": "stream",
          "name": "stdout",
          "text": [
            "AUC scores: [0.65511383 0.71294307 0.64034805 0.71672575 0.76989619 0.68987169\n",
            " 0.7060534  0.74270833 0.72756693 0.81978085]\n",
            "Mean AUC score: 0.7181008099660208\n"
          ]
        }
      ]
    },
    {
      "cell_type": "code",
      "source": [
        "# Model 2: Add LDA features\n",
        "def LDA_model():\n",
        "  lda = LinearDiscriminantAnalysis()\n",
        "  logi = LogisticRegression(solver='liblinear', penalty=\"l1\")\n",
        "\n",
        "  kf = KFold(n_splits=10, shuffle=True, random_state=42)\n",
        "  auc_scores = []\n",
        "  X = data.drop(columns=[\"Rating\", \"InvGrd\"])\n",
        "  y = data[[\"InvGrd\", \"Rating\"]]\n",
        "\n",
        "  for train_idx, val_idx in kf.split(X, y):\n",
        "    X_train, y_train = X.iloc[train_idx], y.iloc[train_idx]\n",
        "    X_val, y_val = X.iloc[val_idx], y.iloc[val_idx]\n",
        "\n",
        "    lda.fit(X_train, y_train[\"InvGrd\"])\n",
        "\n",
        "    X_train_new = generate_LDA_feature(X_train, lda)\n",
        "    X_val_new = generate_LDA_feature(X_val, lda)\n",
        "\n",
        "    logi.fit(X_train_new, y_train[\"InvGrd\"])\n",
        "    y_pred_proba = logi.predict_proba(X_val_new)[:, 1]\n",
        "    auc_score = roc_auc_score(y_val[\"InvGrd\"], y_pred_proba)\n",
        "    auc_scores.append(auc_score)\n",
        "\n",
        "  print('AUC scores:', auc_scores)\n",
        "  print('Mean AUC score:', np.mean(auc_scores))\n",
        "\n",
        "LDA_model()"
      ],
      "metadata": {
        "colab": {
          "base_uri": "https://localhost:8080/"
        },
        "id": "O83sEPCWNUUd",
        "outputId": "ad14dbfc-b53f-4328-c473-38a6ea9854a6"
      },
      "execution_count": 20,
      "outputs": [
        {
          "output_type": "stream",
          "name": "stdout",
          "text": [
            "AUC scores: [0.563030920829086, 0.6702470461868958, 0.5562359007412181, 0.6980341604898486, 0.6583044982698962, 0.6093366093366094, 0.6719534760771874, 0.6190104166666666, 0.7243306854957341, 0.7465397923875432]\n",
            "Mean AUC score: 0.6517023506480686\n"
          ]
        }
      ]
    },
    {
      "cell_type": "markdown",
      "source": [
        "#### Summary\n",
        "From the above three models we could tell that, using LDA to extract features and selection features with l1 norm is not a good way for this binary classification problem. <br>\n",
        "However, winsorizing outliers turns out significantly increase more than 0.06 the cross validation model auc. Thus, we will still try this method in the following model fitting.\n",
        "Besides, through testting we also find out that L1 regularization's feature selection is really bad."
      ],
      "metadata": {
        "id": "VXiaS0tDFdNN"
      }
    },
    {
      "cell_type": "markdown",
      "source": [
        "### Multiclassification"
      ],
      "metadata": {
        "id": "tvgkKiJGcsol"
      }
    },
    {
      "cell_type": "code",
      "source": [],
      "metadata": {
        "id": "KeedfbNpcvwd"
      },
      "execution_count": null,
      "outputs": []
    },
    {
      "cell_type": "code",
      "source": [],
      "metadata": {
        "id": "Ujv0dt22cv74"
      },
      "execution_count": null,
      "outputs": []
    },
    {
      "cell_type": "code",
      "source": [],
      "metadata": {
        "id": "myb7SZsfcwEW"
      },
      "execution_count": null,
      "outputs": []
    },
    {
      "cell_type": "markdown",
      "source": [
        "## KNN"
      ],
      "metadata": {
        "id": "KECFoAMkFdPv"
      }
    },
    {
      "cell_type": "code",
      "source": [
        "from sklearn.model_selection import GridSearchCV\n",
        "from sklearn.neighbors import KNeighborsClassifier\n",
        "\n",
        "def knn_grid_search(X, y):\n",
        "  param = {\"n_neighbors\": range(1, 11)}\n",
        "\n",
        "  # Define knn model\n",
        "  knn = KNeighborsClassifier()\n",
        "\n",
        "  cv = 10\n",
        "\n",
        "  grid_search = GridSearchCV(knn, param, cv=cv, n_jobs=-1,  scoring='roc_auc')\n",
        "  grid_search.fit(X, y)\n",
        "  print(\"Best parameter setting: %s\" % grid_search.best_params_)\n",
        "  print(\"Best cross-validation AUC: %0.2f\" % grid_search.best_score_)"
      ],
      "metadata": {
        "id": "WzB5ZOFrmAwA"
      },
      "execution_count": 21,
      "outputs": []
    },
    {
      "cell_type": "markdown",
      "source": [
        "### Grid Search on Original Data"
      ],
      "metadata": {
        "id": "PxB9dAL4n0Zo"
      }
    },
    {
      "cell_type": "code",
      "source": [
        "# KNN model grid search for best number of neighbors.\n",
        "knn_grid_search(data.drop(columns=[\"InvGrd\", \"Rating\"]), data[\"InvGrd\"])"
      ],
      "metadata": {
        "colab": {
          "base_uri": "https://localhost:8080/"
        },
        "id": "44nV5V6LhgrS",
        "outputId": "198a5517-1ba5-4bbd-8302-9e18f6ab9903"
      },
      "execution_count": 22,
      "outputs": [
        {
          "output_type": "stream",
          "name": "stdout",
          "text": [
            "Best parameter setting: {'n_neighbors': 4}\n",
            "Best cross-validation AUC: 0.75\n"
          ]
        }
      ]
    },
    {
      "cell_type": "markdown",
      "source": [
        "### Grid Search on Winsorized Data"
      ],
      "metadata": {
        "id": "_90A5KFpn20f"
      }
    },
    {
      "cell_type": "code",
      "source": [
        "# KNN model grid search for best number of neighbors.\n",
        "knn_grid_search(winsorized_data.drop(columns=[\"InvGrd\", \"Rating\"]), winsorized_data[\"InvGrd\"])"
      ],
      "metadata": {
        "colab": {
          "base_uri": "https://localhost:8080/"
        },
        "id": "Te3hUyrWnf5o",
        "outputId": "1ddfdc7e-c3e9-4b06-af8f-85457363c407"
      },
      "execution_count": 23,
      "outputs": [
        {
          "output_type": "stream",
          "name": "stdout",
          "text": [
            "Best parameter setting: {'n_neighbors': 4}\n",
            "Best cross-validation AUC: 0.80\n"
          ]
        }
      ]
    },
    {
      "cell_type": "markdown",
      "source": [
        "## Random Forest"
      ],
      "metadata": {
        "id": "UDVuy-_N2qoD"
      }
    },
    {
      "cell_type": "code",
      "source": [
        "from sklearn.ensemble import RandomForestClassifier\n",
        "\n",
        "def rf_grid_search(X, y, metric):\n",
        "    param_grid = {\n",
        "        'n_estimators': [100, 200, 300],\n",
        "        'max_depth': [1, 5, 10]\n",
        "    }\n",
        "\n",
        "    # Define knn model\n",
        "    rf = RandomForestClassifier()\n",
        "\n",
        "    cv = 5\n",
        "\n",
        "    grid_search = GridSearchCV(rf, param_grid, cv=cv, n_jobs=-1,  scoring=metric)\n",
        "    grid_search.fit(X, y)\n",
        "    print(\"Best parameter setting: %s\" % grid_search.best_params_)\n",
        "    print(\"Best cross-validation \" + metric +  \" score: %0.2f\" % grid_search.best_score_)"
      ],
      "metadata": {
        "id": "AK0sw6CUolfB"
      },
      "execution_count": 59,
      "outputs": []
    },
    {
      "cell_type": "markdown",
      "source": [
        "### Grid Search on Original Data"
      ],
      "metadata": {
        "id": "To0MxXjZolKw"
      }
    },
    {
      "cell_type": "code",
      "source": [
        "rf_grid_search(data.drop(columns=[\"InvGrd\", \"Rating\"]), data[\"InvGrd\"], \"roc_auc\")"
      ],
      "metadata": {
        "colab": {
          "base_uri": "https://localhost:8080/"
        },
        "id": "2XDLwRt_pxaq",
        "outputId": "8d6a85d6-f64b-4e69-bce0-bf1d83cf3b9b"
      },
      "execution_count": 52,
      "outputs": [
        {
          "output_type": "stream",
          "name": "stdout",
          "text": [
            "Best parameter setting: {'max_depth': 10, 'n_estimators': 200}\n",
            "Best cross-validationroc_aucscore: 0.89\n"
          ]
        }
      ]
    },
    {
      "cell_type": "code",
      "source": [
        "rf_grid_search(data.drop(columns=[\"InvGrd\", \"Rating\"]), data[\"InvGrd\"], \"accuracy\")"
      ],
      "metadata": {
        "colab": {
          "base_uri": "https://localhost:8080/"
        },
        "id": "z9mVxclnL_nb",
        "outputId": "173faea0-c590-46ed-fb79-7abeb58aaea5"
      },
      "execution_count": 53,
      "outputs": [
        {
          "output_type": "stream",
          "name": "stdout",
          "text": [
            "Best parameter setting: {'max_depth': 10, 'n_estimators': 200}\n",
            "Best cross-validationaccuracyscore: 0.86\n"
          ]
        }
      ]
    },
    {
      "cell_type": "markdown",
      "source": [
        "### Grid Search on Winsorized Data"
      ],
      "metadata": {
        "id": "9yKlP1oPp73o"
      }
    },
    {
      "cell_type": "code",
      "source": [
        "rf_grid_search(data.drop(columns=[\"InvGrd\", \"Rating\"]), data[\"InvGrd\"], \"roc_auc\")"
      ],
      "metadata": {
        "colab": {
          "base_uri": "https://localhost:8080/"
        },
        "id": "NnhSgBcup-b3",
        "outputId": "e73cc287-b0fa-4a49-dbe8-6ade462fade3"
      },
      "execution_count": 54,
      "outputs": [
        {
          "output_type": "stream",
          "name": "stdout",
          "text": [
            "Best parameter setting: {'max_depth': 10, 'n_estimators': 300}\n",
            "Best cross-validationroc_aucscore: 0.89\n"
          ]
        }
      ]
    },
    {
      "cell_type": "code",
      "source": [
        "rf_grid_search(data.drop(columns=[\"InvGrd\", \"Rating\"]), data[\"InvGrd\"], \"accuracy\")"
      ],
      "metadata": {
        "colab": {
          "base_uri": "https://localhost:8080/"
        },
        "id": "EZnSQOSBMD5o",
        "outputId": "39153c61-0438-4757-9cba-ba4a1eddf4ba"
      },
      "execution_count": 55,
      "outputs": [
        {
          "output_type": "stream",
          "name": "stdout",
          "text": [
            "Best parameter setting: {'max_depth': 10, 'n_estimators': 100}\n",
            "Best cross-validationaccuracyscore: 0.86\n"
          ]
        }
      ]
    },
    {
      "cell_type": "markdown",
      "source": [
        "# Ensembling\n",
        "Combine previous three model with best hyperpatameters. Then we found that ensembling method is not as good as random forest model. Probably because random forest is much better than logistic regression and KNN mdoel. Thus, Ensembling method is dragged by those models."
      ],
      "metadata": {
        "id": "3zw5cnaNr2tE"
      }
    },
    {
      "cell_type": "code",
      "source": [
        "from sklearn.ensemble import VotingClassifier\n",
        "\n",
        "def ensemble_cv(X, y, metric):\n",
        "    # Define the individual models\n",
        "    rf = RandomForestClassifier(n_estimators=200, max_depth=10)\n",
        "    knn = KNeighborsClassifier(n_neighbors=4)\n",
        "    logreg = LogisticRegression(solver='liblinear')\n",
        "\n",
        "    # Define the ensemble model\n",
        "    ensemble = VotingClassifier(estimators=[('rf', rf), ('knn', knn), ('logistic', logreg)], voting='soft')\n",
        "    # Perform cross-validation and calculate the AUC scores\n",
        "    auc_scores = cross_val_score(ensemble, X, y, cv=5, scoring=metric)\n",
        "\n",
        "    # Print the mean AUC score and the standard deviation\n",
        "    print(\"Ensemble CV \" + metric +  \" score: %0.2f (+/- %0.2f)\" % (auc_scores.mean(), auc_scores.std() * 2))"
      ],
      "metadata": {
        "id": "zMJHiV8ur_Gf"
      },
      "execution_count": 56,
      "outputs": []
    },
    {
      "cell_type": "code",
      "source": [
        "ensemble_cv(winsorized_data.drop(columns=[\"InvGrd\", \"Rating\"]), winsorized_data[\"InvGrd\"], \"roc_auc\")"
      ],
      "metadata": {
        "colab": {
          "base_uri": "https://localhost:8080/"
        },
        "id": "-Wp0Ayp6sQbe",
        "outputId": "421c9e82-5711-4192-fd14-bd4826e7a106"
      },
      "execution_count": 57,
      "outputs": [
        {
          "output_type": "stream",
          "name": "stdout",
          "text": [
            "Ensemble CVroc_aucscore: 0.87 (+/- 0.03)\n"
          ]
        }
      ]
    },
    {
      "cell_type": "code",
      "source": [
        "ensemble_cv(winsorized_data.drop(columns=[\"InvGrd\", \"Rating\"]), winsorized_data[\"InvGrd\"], \"accuracy\")"
      ],
      "metadata": {
        "colab": {
          "base_uri": "https://localhost:8080/"
        },
        "id": "wQoXlhEpMOF0",
        "outputId": "4cd1a39d-286f-4e64-f27a-b29590171f47"
      },
      "execution_count": 58,
      "outputs": [
        {
          "output_type": "stream",
          "name": "stdout",
          "text": [
            "Ensemble CVaccuracyscore: 0.82 (+/- 0.01)\n"
          ]
        }
      ]
    },
    {
      "cell_type": "markdown",
      "source": [
        "# Final Inspection on Testing Set\n",
        "For binary classification, the test accuracy is slightly lower than cross-validation accuracy, but it's still acceptable. More specifically, in our test set, random forest model's accuracy is equal to esembling model. However, in our cross validation method, random forest's accuracy and auc are both higher than ensembling method. This is becuase random forest model's variance is slightly higher than ensembling model."
      ],
      "metadata": {
        "id": "ZGMdMxMRusAO"
      }
    },
    {
      "cell_type": "markdown",
      "source": [
        "## Test Ensemble Model"
      ],
      "metadata": {
        "id": "-b471CjLw78g"
      }
    },
    {
      "cell_type": "code",
      "source": [
        "def test_ensemble_model():\n",
        "  rf = RandomForestClassifier(n_estimators=200, max_depth=10)\n",
        "  knn = KNeighborsClassifier(n_neighbors=4)\n",
        "  logreg = LogisticRegression(solver='liblinear')\n",
        "\n",
        "  ensemble = VotingClassifier(estimators=[('rf', rf), ('knn', knn), ('logistic', logreg)], voting='soft')\n",
        "  ensemble.fit(winsorized_data.drop(columns=[\"InvGrd\", \"Rating\"]), winsorized_data[\"InvGrd\"])\n",
        "\n",
        "  accuracy = ensemble.score(winsorize_outliers(X_test), y_test[\"InvGrd\"])\n",
        "\n",
        "  print(\"Fnial accuracy of ensemble model on test data is:\", round(accuracy, 4))\n",
        "\n",
        "test_ensemble_model()"
      ],
      "metadata": {
        "colab": {
          "base_uri": "https://localhost:8080/"
        },
        "id": "vTyw2_dGuwP0",
        "outputId": "233a63e1-2005-4b3c-8a6c-44399fdd96b4"
      },
      "execution_count": 29,
      "outputs": [
        {
          "output_type": "stream",
          "name": "stdout",
          "text": [
            "Fnial accuracy of ensemble model on test data is: 0.8206\n"
          ]
        }
      ]
    },
    {
      "cell_type": "markdown",
      "source": [
        "## Test Random Forest Model"
      ],
      "metadata": {
        "id": "fB0KPpqvw99r"
      }
    },
    {
      "cell_type": "code",
      "source": [
        "def test_rf_model():\n",
        "  rf = RandomForestClassifier(n_estimators=200, max_depth=10)\n",
        "\n",
        "  rf.fit(winsorized_data.drop(columns=[\"InvGrd\", \"Rating\"]), winsorized_data[\"InvGrd\"])\n",
        "\n",
        "  accuracy = rf.score(winsorize_outliers(X_test), y_test[\"InvGrd\"])\n",
        "\n",
        "  print(\"Fnial accuracy of random forest model on test data is:\", round(accuracy, 4))\n",
        "  return rf\n",
        "\n",
        "test_rf = test_rf_model()"
      ],
      "metadata": {
        "colab": {
          "base_uri": "https://localhost:8080/"
        },
        "id": "xMHzcRy1w_9d",
        "outputId": "1cb6603b-4753-4881-ba74-10b39be773cd"
      },
      "execution_count": 60,
      "outputs": [
        {
          "output_type": "stream",
          "name": "stdout",
          "text": [
            "Fnial accuracy of random forest model on test data is: 0.8471\n"
          ]
        }
      ]
    },
    {
      "cell_type": "code",
      "source": [
        "plt.figure(figsize=(10, 6))\n",
        "plt.plot(X_test.columns, test_rf.feature_importances_)\n",
        "plt.xticks(rotation=45)\n",
        "plt.show()"
      ],
      "metadata": {
        "colab": {
          "base_uri": "https://localhost:8080/",
          "height": 461
        },
        "id": "AMK1_XzDOs9p",
        "outputId": "340b7288-c127-4548-b410-283d932c145b"
      },
      "execution_count": 73,
      "outputs": [
        {
          "output_type": "display_data",
          "data": {
            "text/plain": [
              "<Figure size 720x432 with 1 Axes>"
            ],
            "image/png": "[encoded data removed]"
          },
          "metadata": {
            "needs_background": "light"
          }
        }
      ]
    },
    {
      "cell_type": "markdown",
      "source": [
        "# Conclusion"
      ],
      "metadata": {
        "id": "QzpkeLKi2v6M"
      }
    },
    {
      "cell_type": "code",
      "source": [],
      "metadata": {
        "id": "6PJ8EzXfFGRy"
      },
      "execution_count": 30,
      "outputs": []
    }
  ]
}