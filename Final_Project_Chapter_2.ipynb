{
  "nbformat": 4,
  "nbformat_minor": 0,
  "metadata": {
    "colab": {
      "provenance": [],
      "toc_visible": true
    },
    "kernelspec": {
      "name": "python3",
      "display_name": "Python 3"
    },
    "language_info": {
      "name": "python"
    }
  },
  "cells": [
    {
      "cell_type": "code",
      "execution_count": 1,
      "metadata": {
        "id": "F-qMacWA0akv"
      },
      "outputs": [],
      "source": [
        "import pandas as pd\n",
        "import numpy as np\n",
        "import seaborn as sns\n",
        "import matplotlib.pyplot as plt"
      ]
    },
    {
      "cell_type": "code",
      "source": [
        "from google.colab import drive\n",
        "drive.mount('/content/drive')"
      ],
      "metadata": {
        "colab": {
          "base_uri": "https://localhost:8080/"
        },
        "id": "xbqmZIN10bZ-",
        "outputId": "586f95eb-cdb5-4a38-e2fc-56df9407708e"
      },
      "execution_count": 2,
      "outputs": [
        {
          "output_type": "stream",
          "name": "stdout",
          "text": [
            "Mounted at /content/drive\n"
          ]
        }
      ]
    },
    {
      "cell_type": "markdown",
      "source": [
        "# Explorative Data Analysis"
      ],
      "metadata": {
        "id": "eF6NlSOL2JG3"
      }
    },
    {
      "cell_type": "markdown",
      "source": [
        "## Preprocessing"
      ],
      "metadata": {
        "id": "FCPBPOzA2ME7"
      }
    },
    {
      "cell_type": "code",
      "source": [
        "econt_data = pd.read_csv(\"/content/drive/MyDrive/IE517_project_data/MLF_GP2_EconCycle.csv\")\n",
        "econt_data.head()"
      ],
      "metadata": {
        "id": "vavcdxXm0elw",
        "colab": {
          "base_uri": "https://localhost:8080/",
          "height": 206
        },
        "outputId": "5ad91211-ce57-4005-cc5e-9caeac85e8f8"
      },
      "execution_count": 3,
      "outputs": [
        {
          "output_type": "execute_result",
          "data": {
            "text/plain": [
              "        Date  T1Y Index  T2Y Index  T3Y Index  T5Y Index  T7Y Index  \\\n",
              "0  1/31/1979      10.41       9.86       9.50       9.20       9.14   \n",
              "1  2/28/1979      10.24       9.72       9.29       9.13       9.11   \n",
              "2  3/31/1979      10.25       9.79       9.38       9.20       9.15   \n",
              "3  4/30/1979      10.12       9.78       9.43       9.25       9.21   \n",
              "4  5/31/1979      10.12       9.78       9.42       9.24       9.23   \n",
              "\n",
              "   T10Y Index  CP1M  CP3M   CP6M  CP1M_T1Y  CP3M_T1Y  CP6M_T1Y  USPHCI  \\\n",
              "0        9.10  9.75  9.95  10.01  0.936599  0.955812  0.961575   47.08   \n",
              "1        9.10  9.74  9.90   9.96  0.951172  0.966797  0.972656   47.32   \n",
              "2        9.12  9.72  9.85   9.87  0.948293  0.960976  0.962927   47.39   \n",
              "3        9.18  9.86  9.95   9.98  0.974308  0.983202  0.986166   47.62   \n",
              "4        9.25  9.77  9.76   9.71  0.965415  0.964427  0.959486   47.76   \n",
              "\n",
              "   PCT 3MO FWD  PCT 6MO FWD  PCT 9MO FWD  \n",
              "0     0.011470     0.018060     0.024406  \n",
              "1     0.009298     0.014866     0.020612  \n",
              "2     0.010340     0.015455     0.020154  \n",
              "3     0.006720     0.013141     0.017409  \n",
              "4     0.005653     0.011451     0.016353  "
            ],
            "text/html": [
              "\n",
              "  <div id=\"df-f6baba13-c1d6-4f48-9975-3d0275476656\">\n",
              "    <div class=\"colab-df-container\">\n",
              "      <div>\n",
              "<style scoped>\n",
              "    .dataframe tbody tr th:only-of-type {\n",
              "        vertical-align: middle;\n",
              "    }\n",
              "\n",
              "    .dataframe tbody tr th {\n",
              "        vertical-align: top;\n",
              "    }\n",
              "\n",
              "    .dataframe thead th {\n",
              "        text-align: right;\n",
              "    }\n",
              "</style>\n",
              "<table border=\"1\" class=\"dataframe\">\n",
              "  <thead>\n",
              "    <tr style=\"text-align: right;\">\n",
              "      <th></th>\n",
              "      <th>Date</th>\n",
              "      <th>T1Y Index</th>\n",
              "      <th>T2Y Index</th>\n",
              "      <th>T3Y Index</th>\n",
              "      <th>T5Y Index</th>\n",
              "      <th>T7Y Index</th>\n",
              "      <th>T10Y Index</th>\n",
              "      <th>CP1M</th>\n",
              "      <th>CP3M</th>\n",
              "      <th>CP6M</th>\n",
              "      <th>CP1M_T1Y</th>\n",
              "      <th>CP3M_T1Y</th>\n",
              "      <th>CP6M_T1Y</th>\n",
              "      <th>USPHCI</th>\n",
              "      <th>PCT 3MO FWD</th>\n",
              "      <th>PCT 6MO FWD</th>\n",
              "      <th>PCT 9MO FWD</th>\n",
              "    </tr>\n",
              "  </thead>\n",
              "  <tbody>\n",
              "    <tr>\n",
              "      <th>0</th>\n",
              "      <td>1/31/1979</td>\n",
              "      <td>10.41</td>\n",
              "      <td>9.86</td>\n",
              "      <td>9.50</td>\n",
              "      <td>9.20</td>\n",
              "      <td>9.14</td>\n",
              "      <td>9.10</td>\n",
              "      <td>9.75</td>\n",
              "      <td>9.95</td>\n",
              "      <td>10.01</td>\n",
              "      <td>0.936599</td>\n",
              "      <td>0.955812</td>\n",
              "      <td>0.961575</td>\n",
              "      <td>47.08</td>\n",
              "      <td>0.011470</td>\n",
              "      <td>0.018060</td>\n",
              "      <td>0.024406</td>\n",
              "    </tr>\n",
              "    <tr>\n",
              "      <th>1</th>\n",
              "      <td>2/28/1979</td>\n",
              "      <td>10.24</td>\n",
              "      <td>9.72</td>\n",
              "      <td>9.29</td>\n",
              "      <td>9.13</td>\n",
              "      <td>9.11</td>\n",
              "      <td>9.10</td>\n",
              "      <td>9.74</td>\n",
              "      <td>9.90</td>\n",
              "      <td>9.96</td>\n",
              "      <td>0.951172</td>\n",
              "      <td>0.966797</td>\n",
              "      <td>0.972656</td>\n",
              "      <td>47.32</td>\n",
              "      <td>0.009298</td>\n",
              "      <td>0.014866</td>\n",
              "      <td>0.020612</td>\n",
              "    </tr>\n",
              "    <tr>\n",
              "      <th>2</th>\n",
              "      <td>3/31/1979</td>\n",
              "      <td>10.25</td>\n",
              "      <td>9.79</td>\n",
              "      <td>9.38</td>\n",
              "      <td>9.20</td>\n",
              "      <td>9.15</td>\n",
              "      <td>9.12</td>\n",
              "      <td>9.72</td>\n",
              "      <td>9.85</td>\n",
              "      <td>9.87</td>\n",
              "      <td>0.948293</td>\n",
              "      <td>0.960976</td>\n",
              "      <td>0.962927</td>\n",
              "      <td>47.39</td>\n",
              "      <td>0.010340</td>\n",
              "      <td>0.015455</td>\n",
              "      <td>0.020154</td>\n",
              "    </tr>\n",
              "    <tr>\n",
              "      <th>3</th>\n",
              "      <td>4/30/1979</td>\n",
              "      <td>10.12</td>\n",
              "      <td>9.78</td>\n",
              "      <td>9.43</td>\n",
              "      <td>9.25</td>\n",
              "      <td>9.21</td>\n",
              "      <td>9.18</td>\n",
              "      <td>9.86</td>\n",
              "      <td>9.95</td>\n",
              "      <td>9.98</td>\n",
              "      <td>0.974308</td>\n",
              "      <td>0.983202</td>\n",
              "      <td>0.986166</td>\n",
              "      <td>47.62</td>\n",
              "      <td>0.006720</td>\n",
              "      <td>0.013141</td>\n",
              "      <td>0.017409</td>\n",
              "    </tr>\n",
              "    <tr>\n",
              "      <th>4</th>\n",
              "      <td>5/31/1979</td>\n",
              "      <td>10.12</td>\n",
              "      <td>9.78</td>\n",
              "      <td>9.42</td>\n",
              "      <td>9.24</td>\n",
              "      <td>9.23</td>\n",
              "      <td>9.25</td>\n",
              "      <td>9.77</td>\n",
              "      <td>9.76</td>\n",
              "      <td>9.71</td>\n",
              "      <td>0.965415</td>\n",
              "      <td>0.964427</td>\n",
              "      <td>0.959486</td>\n",
              "      <td>47.76</td>\n",
              "      <td>0.005653</td>\n",
              "      <td>0.011451</td>\n",
              "      <td>0.016353</td>\n",
              "    </tr>\n",
              "  </tbody>\n",
              "</table>\n",
              "</div>\n",
              "      <button class=\"colab-df-convert\" onclick=\"convertToInteractive('df-f6baba13-c1d6-4f48-9975-3d0275476656')\"\n",
              "              title=\"Convert this dataframe to an interactive table.\"\n",
              "              style=\"display:none;\">\n",
              "        \n",
              "  <svg xmlns=\"http://www.w3.org/2000/svg\" height=\"24px\"viewBox=\"0 0 24 24\"\n",
              "       width=\"24px\">\n",
              "    <path d=\"M0 0h24v24H0V0z\" fill=\"none\"/>\n",
              "    <path d=\"M18.56 5.44l.94 2.06.94-2.06 2.06-.94-2.06-.94-.94-2.06-.94 2.06-2.06.94zm-11 1L8.5 8.5l.94-2.06 2.06-.94-2.06-.94L8.5 2.5l-.94 2.06-2.06.94zm10 10l.94 2.06.94-2.06 2.06-.94-2.06-.94-.94-2.06-.94 2.06-2.06.94z\"/><path d=\"M17.41 7.96l-1.37-1.37c-.4-.4-.92-.59-1.43-.59-.52 0-1.04.2-1.43.59L10.3 9.45l-7.72 7.72c-.78.78-.78 2.05 0 2.83L4 21.41c.39.39.9.59 1.41.59.51 0 1.02-.2 1.41-.59l7.78-7.78 2.81-2.81c.8-.78.8-2.07 0-2.86zM5.41 20L4 18.59l7.72-7.72 1.47 1.35L5.41 20z\"/>\n",
              "  </svg>\n",
              "      </button>\n",
              "      \n",
              "  <style>\n",
              "    .colab-df-container {\n",
              "      display:flex;\n",
              "      flex-wrap:wrap;\n",
              "      gap: 12px;\n",
              "    }\n",
              "\n",
              "    .colab-df-convert {\n",
              "      background-color: #E8F0FE;\n",
              "      border: none;\n",
              "      border-radius: 50%;\n",
              "      cursor: pointer;\n",
              "      display: none;\n",
              "      fill: #1967D2;\n",
              "      height: 32px;\n",
              "      padding: 0 0 0 0;\n",
              "      width: 32px;\n",
              "    }\n",
              "\n",
              "    .colab-df-convert:hover {\n",
              "      background-color: #E2EBFA;\n",
              "      box-shadow: 0px 1px 2px rgba(60, 64, 67, 0.3), 0px 1px 3px 1px rgba(60, 64, 67, 0.15);\n",
              "      fill: #174EA6;\n",
              "    }\n",
              "\n",
              "    [theme=dark] .colab-df-convert {\n",
              "      background-color: #3B4455;\n",
              "      fill: #D2E3FC;\n",
              "    }\n",
              "\n",
              "    [theme=dark] .colab-df-convert:hover {\n",
              "      background-color: #434B5C;\n",
              "      box-shadow: 0px 1px 3px 1px rgba(0, 0, 0, 0.15);\n",
              "      filter: drop-shadow(0px 1px 2px rgba(0, 0, 0, 0.3));\n",
              "      fill: #FFFFFF;\n",
              "    }\n",
              "  </style>\n",
              "\n",
              "      <script>\n",
              "        const buttonEl =\n",
              "          document.querySelector('#df-f6baba13-c1d6-4f48-9975-3d0275476656 button.colab-df-convert');\n",
              "        buttonEl.style.display =\n",
              "          google.colab.kernel.accessAllowed ? 'block' : 'none';\n",
              "\n",
              "        async function convertToInteractive(key) {\n",
              "          const element = document.querySelector('#df-f6baba13-c1d6-4f48-9975-3d0275476656');\n",
              "          const dataTable =\n",
              "            await google.colab.kernel.invokeFunction('convertToInteractive',\n",
              "                                                     [key], {});\n",
              "          if (!dataTable) return;\n",
              "\n",
              "          const docLinkHtml = 'Like what you see? Visit the ' +\n",
              "            '<a target=\"_blank\" href=https://colab.research.google.com/notebooks/data_table.ipynb>data table notebook</a>'\n",
              "            + ' to learn more about interactive tables.';\n",
              "          element.innerHTML = '';\n",
              "          dataTable['output_type'] = 'display_data';\n",
              "          await google.colab.output.renderOutput(dataTable, element);\n",
              "          const docLink = document.createElement('div');\n",
              "          docLink.innerHTML = docLinkHtml;\n",
              "          element.appendChild(docLink);\n",
              "        }\n",
              "      </script>\n",
              "    </div>\n",
              "  </div>\n",
              "  "
            ]
          },
          "metadata": {},
          "execution_count": 3
        }
      ]
    },
    {
      "cell_type": "code",
      "source": [
        "# Seperate Data\n",
        "X = econt_data.drop(columns = [\"Date\",\"USPHCI\",\"PCT 3MO FWD\",\"PCT 6MO FWD\",\"PCT 9MO FWD\"])\n"
      ],
      "metadata": {
        "id": "ZOYlXKoc0U8F"
      },
      "execution_count": 4,
      "outputs": []
    },
    {
      "cell_type": "code",
      "source": [
        "print(\"Dataframe shape is:\",econt_data.shape)"
      ],
      "metadata": {
        "id": "tCrwheRS2O06",
        "outputId": "4eab856f-9769-421b-fe01-a0a2c7b28b55",
        "colab": {
          "base_uri": "https://localhost:8080/"
        }
      },
      "execution_count": 5,
      "outputs": [
        {
          "output_type": "stream",
          "name": "stdout",
          "text": [
            "Dataframe shape is: (223, 17)\n"
          ]
        }
      ]
    },
    {
      "cell_type": "code",
      "source": [
        "# Check whether there is null values\n",
        "econt_data.isnull().sum().sum()"
      ],
      "metadata": {
        "id": "aZbiRrCs2Sp6",
        "colab": {
          "base_uri": "https://localhost:8080/"
        },
        "outputId": "44041288-4edd-4219-c041-6a3e5b793669"
      },
      "execution_count": 6,
      "outputs": [
        {
          "output_type": "execute_result",
          "data": {
            "text/plain": [
              "0"
            ]
          },
          "metadata": {},
          "execution_count": 6
        }
      ]
    },
    {
      "cell_type": "markdown",
      "source": [
        "### Overview of Features"
      ],
      "metadata": {
        "id": "FWuDLeH3sMe9"
      }
    },
    {
      "cell_type": "code",
      "source": [
        "#Nature of Attributes:\n",
        "columns_cat = econt_data.applymap(np.isreal).all()\n",
        "print('\\n')\n",
        "print('Are the columns numerical or not? (True for numerical)')\n",
        "print(columns_cat)"
      ],
      "metadata": {
        "id": "6wyQ_tsd2XTq",
        "colab": {
          "base_uri": "https://localhost:8080/"
        },
        "outputId": "f4e92957-8172-4937-dffb-9a92c92806e1"
      },
      "execution_count": 7,
      "outputs": [
        {
          "output_type": "stream",
          "name": "stdout",
          "text": [
            "\n",
            "\n",
            "Are the columns numerical or not? (True for numerical)\n",
            "Date           False\n",
            "T1Y Index       True\n",
            "T2Y Index       True\n",
            "T3Y Index       True\n",
            "T5Y Index       True\n",
            "T7Y Index       True\n",
            "T10Y Index      True\n",
            "CP1M            True\n",
            "CP3M            True\n",
            "CP6M            True\n",
            "CP1M_T1Y        True\n",
            "CP3M_T1Y        True\n",
            "CP6M_T1Y        True\n",
            "USPHCI          True\n",
            "PCT 3MO FWD     True\n",
            "PCT 6MO FWD     True\n",
            "PCT 9MO FWD     True\n",
            "dtype: bool\n"
          ]
        }
      ]
    },
    {
      "cell_type": "code",
      "source": [
        "econt_data.info()"
      ],
      "metadata": {
        "colab": {
          "base_uri": "https://localhost:8080/"
        },
        "id": "IIQw0qGhsEVp",
        "outputId": "d5e1ed8f-1531-47ba-ff77-5d797c2accd3"
      },
      "execution_count": 8,
      "outputs": [
        {
          "output_type": "stream",
          "name": "stdout",
          "text": [
            "<class 'pandas.core.frame.DataFrame'>\n",
            "RangeIndex: 223 entries, 0 to 222\n",
            "Data columns (total 17 columns):\n",
            " #   Column       Non-Null Count  Dtype  \n",
            "---  ------       --------------  -----  \n",
            " 0   Date         223 non-null    object \n",
            " 1   T1Y Index    223 non-null    float64\n",
            " 2   T2Y Index    223 non-null    float64\n",
            " 3   T3Y Index    223 non-null    float64\n",
            " 4   T5Y Index    223 non-null    float64\n",
            " 5   T7Y Index    223 non-null    float64\n",
            " 6   T10Y Index   223 non-null    float64\n",
            " 7   CP1M         223 non-null    float64\n",
            " 8   CP3M         223 non-null    float64\n",
            " 9   CP6M         223 non-null    float64\n",
            " 10  CP1M_T1Y     223 non-null    float64\n",
            " 11  CP3M_T1Y     223 non-null    float64\n",
            " 12  CP6M_T1Y     223 non-null    float64\n",
            " 13  USPHCI       223 non-null    float64\n",
            " 14  PCT 3MO FWD  223 non-null    float64\n",
            " 15  PCT 6MO FWD  223 non-null    float64\n",
            " 16  PCT 9MO FWD  223 non-null    float64\n",
            "dtypes: float64(16), object(1)\n",
            "memory usage: 29.7+ KB\n"
          ]
        }
      ]
    },
    {
      "cell_type": "markdown",
      "source": [
        "### Correlation Matrix Heat Plot for Features\n"
      ],
      "metadata": {
        "id": "aDGqnX6PsQ7n"
      }
    },
    {
      "cell_type": "code",
      "source": [
        "#:Coefficient&heatmap\n",
        "corr = X.corr()\n",
        "sns.heatmap(corr, cmap='coolwarm')"
      ],
      "metadata": {
        "id": "36ly0RDLRUjz",
        "colab": {
          "base_uri": "https://localhost:8080/",
          "height": 332
        },
        "outputId": "1fe9d99b-6b7d-4e16-964b-46426a58a27c"
      },
      "execution_count": 9,
      "outputs": [
        {
          "output_type": "execute_result",
          "data": {
            "text/plain": [
              "<AxesSubplot:>"
            ]
          },
          "metadata": {},
          "execution_count": 9
        },
        {
          "output_type": "display_data",
          "data": {
            "text/plain": [
              "<Figure size 432x288 with 2 Axes>"
            ],
            "image/png": "[encoded data removed]"
          },
          "metadata": {
            "needs_background": "light"
          }
        }
      ]
    },
    {
      "cell_type": "markdown",
      "source": [
        "### Boxplot for outliners\n"
      ],
      "metadata": {
        "id": "kVFQ4yyHlzfs"
      }
    },
    {
      "cell_type": "code",
      "source": [
        "fig, axes = plt.subplots(nrows=3, ncols=4, figsize=(20, 15))\n",
        "for i, feature in enumerate(X):\n",
        "  row = i // 4\n",
        "  col = i % 4\n",
        "  axes[row, col].boxplot(X[feature])\n",
        "  axes[row, col].boxplot(X[feature])\n",
        "plt.show()"
      ],
      "metadata": {
        "colab": {
          "base_uri": "https://localhost:8080/",
          "height": 863
        },
        "id": "IBs-QhEUdWnv",
        "outputId": "1c8d83f9-a79c-4ab9-e8e7-be011885dbd7"
      },
      "execution_count": 10,
      "outputs": [
        {
          "output_type": "display_data",
          "data": {
            "text/plain": [
              "<Figure size 1440x1080 with 12 Axes>"
            ],
            "image/png": "[encoded data removed]"
          },
          "metadata": {
            "needs_background": "light"
          }
        }
      ]
    },
    {
      "cell_type": "markdown",
      "source": [
        "# Data Preparation"
      ],
      "metadata": {
        "id": "GdmcI5wDwGj6"
      }
    },
    {
      "cell_type": "markdown",
      "source": [
        "##Functions"
      ],
      "metadata": {
        "id": "0VrDSmJbmSw8"
      }
    },
    {
      "cell_type": "code",
      "source": [
        "from scipy.stats.mstats import winsorize\n",
        "def winsorize_outliers(X_train):\n",
        "  pct_95 = np.percentile(X_train, 95, axis=0)\n",
        "\n",
        "  # list of boolean\n",
        "  outlier_cols = np.any(X_train > pct_95, axis=0).tolist()\n",
        "\n",
        "  if np.any(outlier_cols):\n",
        "    X_winsorized = X_train.copy()\n",
        "    X_winsorized.loc[:, outlier_cols] = winsorize(X_train.loc[:, outlier_cols].values, limits=(0, 0.05))\n",
        "    X_winsorized = pd.DataFrame(X_winsorized, columns=X_train.columns)\n",
        "    return X_winsorized\n",
        "  else:\n",
        "    return X_train"
      ],
      "metadata": {
        "id": "EGZs0P9Ycmze"
      },
      "execution_count": 11,
      "outputs": []
    },
    {
      "cell_type": "code",
      "source": [
        "from sklearn.decomposition import PCA\n",
        "def pca_treatment(data):\n",
        "    columns_pca = data[:, :9]\n",
        "    columns_non_pca = data[:, 9:]\n",
        "    pca = PCA(n_components=4)\n",
        "    pca_result = pca.fit_transform(columns_pca)\n",
        "    treated = np.concatenate((pca_result, columns_non_pca), axis=1)\n",
        "    return treated"
      ],
      "metadata": {
        "id": "mjoJqEFUmV_L"
      },
      "execution_count": 12,
      "outputs": []
    },
    {
      "cell_type": "markdown",
      "source": [
        "##Data Preparation: 3 month"
      ],
      "metadata": {
        "id": "Vj_NYFCb6gR1"
      }
    },
    {
      "cell_type": "code",
      "source": [
        "from sklearn.model_selection import train_test_split\n",
        "y_3m = econt_data[\"PCT 3MO FWD\"]\n",
        "#Train Test Split\n",
        "X_3m_train, X_3m_test,y_3m_train,y_3m_test = train_test_split(X,y_3m,test_size=0.2,random_state = 1)\n",
        "#Remove Outliners\n",
        "X_of_3m_train = winsorize_outliers(X_3m_train)\n",
        "X_of_3m_test = winsorize_outliers(X_3m_test)\n",
        "#standardize\n",
        "from sklearn.preprocessing import StandardScaler\n",
        "scaler = StandardScaler()\n",
        "X_scale_3m_train = scaler.fit_transform(X_of_3m_train)\n",
        "X_scale_3m_test = scaler.fit_transform(X_of_3m_test)\n",
        "#PCA\n",
        "X_3m_ready = pca_treatment(X_scale_3m_train)\n",
        "X_3m_test2 = pca_treatment(X_scale_3m_test)\n",
        "\n"
      ],
      "metadata": {
        "id": "XI4xIunxH6WW"
      },
      "execution_count": 13,
      "outputs": []
    },
    {
      "cell_type": "markdown",
      "source": [
        "##Data Preparation: 6 month"
      ],
      "metadata": {
        "id": "rxRfXv5H61x2"
      }
    },
    {
      "cell_type": "code",
      "source": [
        "y_6m = econt_data[\"PCT 6MO FWD\"]\n",
        "\n",
        "#Train Test Split\n",
        "X_6m_train, X_6m_test,y_6m_train,y_6m_test = train_test_split(X,y_6m,test_size=0.2,random_state = 1)\n",
        "#Remove Outliners\n",
        "X_of_6m_train = winsorize_outliers(X_6m_train)\n",
        "X_of_6m_test = winsorize_outliers(X_6m_test)\n",
        "#standardize\n",
        "from sklearn.preprocessing import StandardScaler\n",
        "scaler = StandardScaler()\n",
        "X_scale_6m_train = scaler.fit_transform(X_of_6m_train)\n",
        "X_scale_6m_test = scaler.fit_transform(X_of_6m_test)\n",
        "#PCA\n",
        "X_6m_ready = pca_treatment(X_scale_6m_train)\n",
        "X_6m_test2 = pca_treatment(X_scale_6m_test)"
      ],
      "metadata": {
        "id": "HTJBe_V667kO"
      },
      "execution_count": 14,
      "outputs": []
    },
    {
      "cell_type": "markdown",
      "source": [
        "##Data Preparation: 9 month"
      ],
      "metadata": {
        "id": "ZlWErMjC7dIe"
      }
    },
    {
      "cell_type": "code",
      "source": [
        "y_9m = econt_data[\"PCT 9MO FWD\"]\n",
        "\n",
        "#Train Test Split\n",
        "X_9m_train, X_9m_test,y_9m_train,y_9m_test = train_test_split(X,y_9m,test_size=0.2,random_state = 1)\n",
        "#Remove Outliners\n",
        "X_of_9m_train = winsorize_outliers(X_9m_train)\n",
        "X_of_9m_test = winsorize_outliers(X_9m_test)\n",
        "#standardize\n",
        "from sklearn.preprocessing import StandardScaler\n",
        "scaler = StandardScaler()\n",
        "X_scale_9m_train = scaler.fit_transform(X_of_9m_train)\n",
        "X_scale_9m_test = scaler.fit_transform(X_of_9m_test)\n",
        "#PCA\n",
        "X_9m_ready = pca_treatment(X_scale_9m_train)\n",
        "X_9m_test2 = pca_treatment(X_scale_9m_test)"
      ],
      "metadata": {
        "id": "Do89cR1e7ka_"
      },
      "execution_count": 15,
      "outputs": []
    },
    {
      "cell_type": "markdown",
      "source": [
        "# Model Fitting and Hyperparameters Tuning"
      ],
      "metadata": {
        "id": "B6KSsI4l2mlH"
      }
    },
    {
      "cell_type": "markdown",
      "source": [
        "## Linear Regression (Baseline)"
      ],
      "metadata": {
        "id": "pCRRjQez2oIs"
      }
    },
    {
      "cell_type": "markdown",
      "source": [
        "###3 Month"
      ],
      "metadata": {
        "id": "otYUL_iJ04z5"
      }
    },
    {
      "cell_type": "code",
      "source": [
        "from sklearn.linear_model import LinearRegression\n",
        "from sklearn.model_selection import cross_val_score\n",
        "\n",
        "BLR_3m = LinearRegression()\n",
        "scores_train = cross_val_score(BLR_3m, X_3m_train, y_3m_train, cv=10, scoring='neg_root_mean_squared_error')\n",
        "print('Cross-validation scores:', -scores_train)\n",
        "print('Average score:', -np.mean(scores_train))"
      ],
      "metadata": {
        "colab": {
          "base_uri": "https://localhost:8080/"
        },
        "id": "ujTiB6u9YyGm",
        "outputId": "6d95cbdb-ae66-48b5-e409-384b5d4bd87c"
      },
      "execution_count": 16,
      "outputs": [
        {
          "output_type": "stream",
          "name": "stdout",
          "text": [
            "Cross-validation scores: [0.00344916 0.00535078 0.00519096 0.0044903  0.00338128 0.00366967\n",
            " 0.0041418  0.00414377 0.00606321 0.00478159]\n",
            "Average score: 0.004466253155907661\n"
          ]
        }
      ]
    },
    {
      "cell_type": "markdown",
      "source": [
        "###6 Month"
      ],
      "metadata": {
        "id": "WnjEX-P_08F5"
      }
    },
    {
      "cell_type": "code",
      "source": [
        "from sklearn.linear_model import LinearRegression\n",
        "from sklearn.model_selection import cross_val_score\n",
        "BLR_6m = LinearRegression()\n",
        "scores_train = cross_val_score(BLR_6m, X_6m_train, y_6m_train, cv=10, scoring='neg_root_mean_squared_error')\n",
        "print('Cross-validation scores:', -scores_train)\n",
        "print('Average score:', -np.mean(scores_train))"
      ],
      "metadata": {
        "colab": {
          "base_uri": "https://localhost:8080/"
        },
        "id": "svpybW0Y1EIL",
        "outputId": "fcb066ff-f8d4-42fd-d7c2-19a667381d99"
      },
      "execution_count": 17,
      "outputs": [
        {
          "output_type": "stream",
          "name": "stdout",
          "text": [
            "Cross-validation scores: [0.0062819  0.00937148 0.00880157 0.0063045  0.00543323 0.00652564\n",
            " 0.00710406 0.00660089 0.0108108  0.01037724]\n",
            "Average score: 0.007761129948970037\n"
          ]
        }
      ]
    },
    {
      "cell_type": "markdown",
      "source": [
        "###9 Month"
      ],
      "metadata": {
        "id": "0xIL-HDO1Aio"
      }
    },
    {
      "cell_type": "code",
      "source": [
        "from sklearn.linear_model import LinearRegression\n",
        "from sklearn.model_selection import cross_val_score\n",
        "BLR_9m = LinearRegression()\n",
        "scores_train = cross_val_score(BLR_9m, X_9m_train, y_9m_train, cv=10, scoring='neg_root_mean_squared_error')\n",
        "print('Cross-validation scores:', -scores_train)\n",
        "print('Average score:', -np.mean(scores_train))"
      ],
      "metadata": {
        "colab": {
          "base_uri": "https://localhost:8080/"
        },
        "id": "-t5VIIZZ1E8z",
        "outputId": "9a24d1db-20e3-476a-c488-c82ac75afc53"
      },
      "execution_count": 18,
      "outputs": [
        {
          "output_type": "stream",
          "name": "stdout",
          "text": [
            "Cross-validation scores: [0.00846543 0.01365863 0.01192851 0.00771538 0.00799519 0.00985763\n",
            " 0.01025365 0.00814529 0.01392346 0.01516571]\n",
            "Average score: 0.010710886514124393\n"
          ]
        }
      ]
    },
    {
      "cell_type": "markdown",
      "source": [
        "## Linear Regression (Treated Data)"
      ],
      "metadata": {
        "id": "0V5AkmvDu0vu"
      }
    },
    {
      "cell_type": "markdown",
      "source": [
        "###3 Month"
      ],
      "metadata": {
        "id": "wxATvLCR6Zyl"
      }
    },
    {
      "cell_type": "code",
      "source": [
        "from sklearn.linear_model import LinearRegression\n",
        "from sklearn.model_selection import cross_val_score\n",
        "LR_3m = LinearRegression()\n",
        "scores_train = cross_val_score(LR_3m, X_3m_ready, y_3m_train, cv=10, scoring='neg_root_mean_squared_error')\n",
        "print('Cross-validation scores:', -scores_train)\n",
        "print('Average score:', -np.mean(scores_train))"
      ],
      "metadata": {
        "colab": {
          "base_uri": "https://localhost:8080/"
        },
        "id": "re4Kb7ts_KL_",
        "outputId": "063ad26b-ce94-453a-8429-20fb19dca8fa"
      },
      "execution_count": 19,
      "outputs": [
        {
          "output_type": "stream",
          "name": "stdout",
          "text": [
            "Cross-validation scores: [0.00301458 0.00557976 0.00563225 0.00520718 0.00323919 0.00392622\n",
            " 0.00568301 0.00431576 0.00630541 0.00400297]\n",
            "Average score: 0.0046906341037794615\n"
          ]
        }
      ]
    },
    {
      "cell_type": "markdown",
      "source": [
        "###6 Month"
      ],
      "metadata": {
        "id": "3_SctPEmI-uc"
      }
    },
    {
      "cell_type": "code",
      "source": [
        "from sklearn.linear_model import LinearRegression\n",
        "from sklearn.model_selection import cross_val_score\n",
        "LR_6m = LinearRegression()\n",
        "scores_train = cross_val_score(LR_6m, X_6m_ready, y_6m_train, cv=10, scoring='neg_root_mean_squared_error')\n",
        "print('Cross-validation scores:', -scores_train)\n",
        "print('Average score:', -np.mean(scores_train))"
      ],
      "metadata": {
        "colab": {
          "base_uri": "https://localhost:8080/"
        },
        "id": "zX5U7HH6Co_d",
        "outputId": "973d0389-b91e-48a9-9bf6-f2e4cae3fdd0"
      },
      "execution_count": 20,
      "outputs": [
        {
          "output_type": "stream",
          "name": "stdout",
          "text": [
            "Cross-validation scores: [0.00690516 0.00936329 0.00937021 0.00762411 0.00529375 0.00699814\n",
            " 0.00892561 0.00777533 0.01118403 0.00826348]\n",
            "Average score: 0.008170311473178796\n"
          ]
        }
      ]
    },
    {
      "cell_type": "markdown",
      "source": [
        "###9 Month"
      ],
      "metadata": {
        "id": "jBkhq3h1I-5Z"
      }
    },
    {
      "cell_type": "code",
      "source": [
        "from sklearn.linear_model import LinearRegression\n",
        "from sklearn.model_selection import cross_val_score\n",
        "LR_9m = LinearRegression()\n",
        "scores_train = cross_val_score(LR_9m, X_9m_ready, y_9m_train, cv=10, scoring='neg_root_mean_squared_error')\n",
        "print('Cross-validation scores:', -scores_train)\n",
        "print('Average score:', -np.mean(scores_train))"
      ],
      "metadata": {
        "colab": {
          "base_uri": "https://localhost:8080/"
        },
        "id": "cFXTsu4DIeul",
        "outputId": "2d879912-c469-454e-8fad-3f7672a52df3"
      },
      "execution_count": 21,
      "outputs": [
        {
          "output_type": "stream",
          "name": "stdout",
          "text": [
            "Cross-validation scores: [0.00995196 0.01293406 0.01255701 0.0088426  0.00775857 0.00981013\n",
            " 0.01222132 0.01032982 0.01457536 0.0121217 ]\n",
            "Average score: 0.011110252015605362\n"
          ]
        }
      ]
    },
    {
      "cell_type": "markdown",
      "source": [
        "## Lasso"
      ],
      "metadata": {
        "id": "boBKod3RJll8"
      }
    },
    {
      "cell_type": "markdown",
      "source": [
        "###3 Month"
      ],
      "metadata": {
        "id": "Q-6TTFBSJuVm"
      }
    },
    {
      "cell_type": "code",
      "source": [
        "from sklearn.linear_model import Lasso\n",
        "from sklearn.model_selection import cross_val_score\n",
        "from sklearn.preprocessing import PolynomialFeatures\n",
        "from sklearn.model_selection import GridSearchCV\n",
        "param_grid = {'alpha': [0.001, 0.01, 0.1, 1, 10]}\n",
        "lasso_3m = Lasso()\n",
        "poly_features = PolynomialFeatures(degree=3, include_bias=False)\n",
        "X_poly = poly_features.fit_transform(X_3m_ready)\n",
        "# Perform grid search using cross-validation\n",
        "grid_search = GridSearchCV(lasso_3m,param_grid,cv=10,scoring='neg_root_mean_squared_error')\n",
        "grid_search.fit(X_poly, y_3m_train)\n",
        "# Print result\n",
        "print(\"Best alpha: \", grid_search.best_params_)\n",
        "print(\"Best score: \", -grid_search.best_score_)\n"
      ],
      "metadata": {
        "colab": {
          "base_uri": "https://localhost:8080/"
        },
        "id": "XwoUOFb0JvDV",
        "outputId": "a6f660ae-ec74-4429-ad9e-ab6ef339ebc5"
      },
      "execution_count": 22,
      "outputs": [
        {
          "output_type": "stream",
          "name": "stdout",
          "text": [
            "Best alpha:  {'alpha': 0.001}\n",
            "Best score:  0.0041405952779563285\n"
          ]
        }
      ]
    },
    {
      "cell_type": "code",
      "source": [
        "#Ridge was used, but not good\n",
        "#from sklearn.linear_model import Ridge\n",
        "# scores_train = cross_val_score(model, X_3m_ready, y_3m_train, cv=10, scoring='neg_root_mean_squared_error')\n",
        "# print('Cross-validation scores:', -scores_train)\n",
        "# print('Average score:', -np.mean(scores_train))\n",
        "# model.fit(X_3m_ready, y_3m_train)\n",
        "# y_pred_3m = model.predict(X_3m_test)\n",
        "# scores_test_3m = r2_score(y_3m_test, y_pred_3m)\n",
        "# print('Out of sample r^2 scores:', scores_test_3m)"
      ],
      "metadata": {
        "id": "P5k4eHXJn2Ij"
      },
      "execution_count": 23,
      "outputs": []
    },
    {
      "cell_type": "markdown",
      "source": [
        "###6 Month"
      ],
      "metadata": {
        "id": "xYclzdIs2xN5"
      }
    },
    {
      "cell_type": "code",
      "source": [
        "from sklearn.linear_model import Lasso\n",
        "from sklearn.model_selection import cross_val_score\n",
        "from sklearn.preprocessing import PolynomialFeatures\n",
        "from sklearn.model_selection import GridSearchCV\n",
        "param_grid = {'alpha': [0.001, 0.01, 0.1, 1, 10]}\n",
        "lasso_6m = Lasso()\n",
        "poly_features = PolynomialFeatures(degree=3, include_bias=False)\n",
        "X_poly = poly_features.fit_transform(X_6m_ready)\n",
        "# Perform grid search using cross-validation\n",
        "grid_search = GridSearchCV(lasso_6m,param_grid,cv=10,scoring='neg_root_mean_squared_error')\n",
        "grid_search.fit(X_poly, y_6m_train)\n",
        "# Print result\n",
        "print(\"Best alpha: \", grid_search.best_params_)\n",
        "print(\"Best score: \", -grid_search.best_score_)"
      ],
      "metadata": {
        "colab": {
          "base_uri": "https://localhost:8080/"
        },
        "id": "tgg2RG2r2ltV",
        "outputId": "eea355c4-95be-412e-ef54-094cb611e3bf"
      },
      "execution_count": 24,
      "outputs": [
        {
          "output_type": "stream",
          "name": "stdout",
          "text": [
            "Best alpha:  {'alpha': 0.001}\n",
            "Best score:  0.007022075286912869\n"
          ]
        }
      ]
    },
    {
      "cell_type": "markdown",
      "source": [
        "###9 Month"
      ],
      "metadata": {
        "id": "qKzcIKFe3AdU"
      }
    },
    {
      "cell_type": "code",
      "source": [
        "from sklearn.linear_model import Lasso\n",
        "from sklearn.model_selection import cross_val_score\n",
        "from sklearn.preprocessing import PolynomialFeatures\n",
        "from sklearn.model_selection import GridSearchCV\n",
        "param_grid = {'alpha': [0.001, 0.01, 0.1, 1, 10]}\n",
        "lasso_9m = Lasso()\n",
        "poly_features = PolynomialFeatures(degree=3, include_bias=False)\n",
        "X_poly = poly_features.fit_transform(X_9m_ready)\n",
        "# Perform grid search using cross-validation\n",
        "grid_search = GridSearchCV(lasso_9m,param_grid,cv=10,scoring='neg_root_mean_squared_error')\n",
        "grid_search.fit(X_poly, y_9m_train)\n",
        "# Print result\n",
        "print(\"Best alpha: \", grid_search.best_params_)\n",
        "print(\"Best score: \", -grid_search.best_score_)"
      ],
      "metadata": {
        "colab": {
          "base_uri": "https://localhost:8080/"
        },
        "id": "BTrRMoGE3EDT",
        "outputId": "6f5d3150-f891-48eb-b5de-b9c8b5353ea7"
      },
      "execution_count": 25,
      "outputs": [
        {
          "output_type": "stream",
          "name": "stdout",
          "text": [
            "Best alpha:  {'alpha': 0.001}\n",
            "Best score:  0.009624053595979567\n"
          ]
        }
      ]
    },
    {
      "cell_type": "markdown",
      "source": [
        "## SVM"
      ],
      "metadata": {
        "id": "GGdD9LdWpgET"
      }
    },
    {
      "cell_type": "markdown",
      "source": [
        "###3 Month"
      ],
      "metadata": {
        "id": "LtCqQLqipnic"
      }
    },
    {
      "cell_type": "code",
      "source": [
        "from sklearn.model_selection import cross_val_score\n",
        "from sklearn.svm import SVR\n",
        "from sklearn.model_selection import GridSearchCV\n",
        "SVM_3m = SVR()\n",
        "param_grid = {'kernel': ['linear', 'poly','sigmoid'],'degree': [2, 3, 4]}\n",
        "grid_search = GridSearchCV(SVM_3m,param_grid,cv=10,scoring='neg_root_mean_squared_error')\n",
        "grid_search.fit(X_3m_ready, y_3m_train)\n",
        "# Print result\n",
        "print(\"Best hyperparameters: \", grid_search.best_params_)\n",
        "print(\"Best score: \", -grid_search.best_score_)"
      ],
      "metadata": {
        "colab": {
          "base_uri": "https://localhost:8080/"
        },
        "id": "Ra0Lgg5GppeM",
        "outputId": "25ec9688-7548-474f-9748-aedec377a109"
      },
      "execution_count": 26,
      "outputs": [
        {
          "output_type": "stream",
          "name": "stdout",
          "text": [
            "Best hyperparameters:  {'degree': 2, 'kernel': 'linear'}\n",
            "Best score:  0.004848218645311797\n"
          ]
        }
      ]
    },
    {
      "cell_type": "markdown",
      "source": [
        "###6 Month"
      ],
      "metadata": {
        "id": "D8dCfMlw3TEY"
      }
    },
    {
      "cell_type": "code",
      "source": [
        "from sklearn.model_selection import cross_val_score\n",
        "from sklearn.svm import SVR\n",
        "from sklearn.model_selection import GridSearchCV\n",
        "SVM_6m = SVR()\n",
        "param_grid = {'kernel': ['linear', 'poly','sigmoid'],'degree': [2, 3, 4]}\n",
        "grid_search = GridSearchCV(SVM_6m,param_grid,cv=10,scoring='neg_root_mean_squared_error')\n",
        "grid_search.fit(X_6m_ready, y_6m_train)\n",
        "# Print result\n",
        "print(\"Best hyperparameters: \", grid_search.best_params_)\n",
        "print(\"Best score: \", -grid_search.best_score_)"
      ],
      "metadata": {
        "colab": {
          "base_uri": "https://localhost:8080/"
        },
        "id": "fabtW1Zl3YD7",
        "outputId": "bb59f16c-d5f5-43aa-d672-c39c3df50017"
      },
      "execution_count": 27,
      "outputs": [
        {
          "output_type": "stream",
          "name": "stdout",
          "text": [
            "Best hyperparameters:  {'degree': 2, 'kernel': 'linear'}\n",
            "Best score:  0.008883908505888858\n"
          ]
        }
      ]
    },
    {
      "cell_type": "markdown",
      "source": [
        "###9 Month"
      ],
      "metadata": {
        "id": "70Tn7mhQ3ViM"
      }
    },
    {
      "cell_type": "code",
      "source": [
        "from sklearn.model_selection import cross_val_score\n",
        "from sklearn.svm import SVR\n",
        "from sklearn.model_selection import GridSearchCV\n",
        "SVM_9m = SVR()\n",
        "param_grid = {'kernel': ['linear', 'poly','sigmoid'],'degree': [2, 3, 4]}\n",
        "grid_search = GridSearchCV(SVM_9m,param_grid,cv=10,scoring='neg_root_mean_squared_error')\n",
        "grid_search.fit(X_9m_ready, y_9m_train)\n",
        "# Print result\n",
        "print(\"Best hyperparameters: \", grid_search.best_params_)\n",
        "print(\"Best score: \", -grid_search.best_score_)"
      ],
      "metadata": {
        "colab": {
          "base_uri": "https://localhost:8080/"
        },
        "id": "yvwnUmWd3Ysj",
        "outputId": "7d88e64c-7758-46de-b9f0-9e4dcc9330f6"
      },
      "execution_count": 28,
      "outputs": [
        {
          "output_type": "stream",
          "name": "stdout",
          "text": [
            "Best hyperparameters:  {'degree': 2, 'kernel': 'linear'}\n",
            "Best score:  0.013058487446134606\n"
          ]
        }
      ]
    },
    {
      "cell_type": "markdown",
      "source": [
        "## Random Forest"
      ],
      "metadata": {
        "id": "QBPISdpuKqwT"
      }
    },
    {
      "cell_type": "markdown",
      "source": [
        "###3 Month"
      ],
      "metadata": {
        "id": "r4AqwIdXKs_2"
      }
    },
    {
      "cell_type": "code",
      "source": [
        "from sklearn.ensemble import RandomForestRegressor\n",
        "from sklearn.model_selection import cross_val_score\n",
        "from sklearn.model_selection import GridSearchCV\n",
        "\n",
        "RF_3m = RandomForestRegressor()\n",
        "param_grid = {'n_estimators': [100,200,300],'max_depth': [1,5,10]}\n",
        "grid_search = GridSearchCV(RF_3m,param_grid,cv=10,scoring='neg_root_mean_squared_error')\n",
        "grid_search.fit(X_3m_ready, y_3m_train)\n",
        "# Print result\n",
        "print(\"Best hyperparameters: \", grid_search.best_params_)\n",
        "print(\"Best score: \", -grid_search.best_score_)"
      ],
      "metadata": {
        "colab": {
          "base_uri": "https://localhost:8080/"
        },
        "id": "xtmMmA5xKtnt",
        "outputId": "bfb97d58-31b8-47cc-e24c-00361e4f2f52"
      },
      "execution_count": 29,
      "outputs": [
        {
          "output_type": "stream",
          "name": "stdout",
          "text": [
            "Best hyperparameters:  {'max_depth': 10, 'n_estimators': 200}\n",
            "Best score:  0.003804592373128745\n"
          ]
        }
      ]
    },
    {
      "cell_type": "markdown",
      "source": [
        "###6 Month"
      ],
      "metadata": {
        "id": "Nmaqn77m6Ina"
      }
    },
    {
      "cell_type": "code",
      "source": [
        "from sklearn.ensemble import RandomForestRegressor\n",
        "from sklearn.model_selection import cross_val_score\n",
        "from sklearn.model_selection import GridSearchCV\n",
        "\n",
        "RF_6m = RandomForestRegressor()\n",
        "param_grid = {'n_estimators': [100,200,300],'max_depth': [1,5,10]}\n",
        "grid_search = GridSearchCV(RF_6m,param_grid,cv=10,scoring='neg_root_mean_squared_error')\n",
        "grid_search.fit(X_6m_ready, y_6m_train)\n",
        "# Print result\n",
        "print(\"Best hyperparameters: \", grid_search.best_params_)\n",
        "print(\"Best score: \", -grid_search.best_score_)"
      ],
      "metadata": {
        "colab": {
          "base_uri": "https://localhost:8080/"
        },
        "id": "KyNVq0lu6QEr",
        "outputId": "40d596bc-b565-486c-f212-4ccf5dcdb933"
      },
      "execution_count": 30,
      "outputs": [
        {
          "output_type": "stream",
          "name": "stdout",
          "text": [
            "Best hyperparameters:  {'max_depth': 10, 'n_estimators': 100}\n",
            "Best score:  0.00610242472284272\n"
          ]
        }
      ]
    },
    {
      "cell_type": "markdown",
      "source": [
        "###9 Month"
      ],
      "metadata": {
        "id": "42KVlLRs6MvX"
      }
    },
    {
      "cell_type": "code",
      "source": [
        "from sklearn.ensemble import RandomForestRegressor\n",
        "from sklearn.model_selection import cross_val_score\n",
        "from sklearn.model_selection import GridSearchCV\n",
        "\n",
        "RF_9m = RandomForestRegressor()\n",
        "param_grid = {'n_estimators': [100,200,300],'max_depth': [1,5,10]}\n",
        "grid_search = GridSearchCV(RF_9m,param_grid,cv=10,scoring='neg_root_mean_squared_error')\n",
        "grid_search.fit(X_9m_ready, y_9m_train)\n",
        "# Print result\n",
        "print(\"Best hyperparameters: \", grid_search.best_params_)\n",
        "print(\"Best score: \", -grid_search.best_score_)"
      ],
      "metadata": {
        "colab": {
          "base_uri": "https://localhost:8080/"
        },
        "id": "wjmkioA-6idD",
        "outputId": "731a3ed0-4d07-4618-ea53-56f7db4006b2"
      },
      "execution_count": 31,
      "outputs": [
        {
          "output_type": "stream",
          "name": "stdout",
          "text": [
            "Best hyperparameters:  {'max_depth': 10, 'n_estimators': 200}\n",
            "Best score:  0.00737813359468995\n"
          ]
        }
      ]
    },
    {
      "cell_type": "markdown",
      "source": [
        "## Ensemble"
      ],
      "metadata": {
        "id": "PqmefHTbu-sh"
      }
    },
    {
      "cell_type": "markdown",
      "source": [
        "###3 Month"
      ],
      "metadata": {
        "id": "px2wqJOmv_Lv"
      }
    },
    {
      "cell_type": "code",
      "source": [
        "from sklearn.ensemble import VotingRegressor\n",
        "from sklearn.model_selection import cross_val_score\n",
        "from sklearn.svm import SVR\n",
        "from sklearn.linear_model import Lasso\n",
        "from sklearn.ensemble import RandomForestRegressor\n",
        "\n",
        "SVM_3m = SVR(degree = 2, kernel = 'linear')\n",
        "lasso_3m = Lasso(alpha=0.001)\n",
        "RF_3m = RandomForestRegressor(max_depth = 10, n_estimators = 200)\n",
        "ensemble_3m = VotingRegressor([('svm', SVM_3m), ('lasso', lasso_3m), ('rf', RF_3m)], n_jobs=-1)\n",
        "cv_scores = cross_val_score(ensemble_3m, X_3m_ready, y_3m_train, cv=10, scoring='neg_root_mean_squared_error')\n",
        "print(\"Mean RMSE: \", -cv_scores.mean())"
      ],
      "metadata": {
        "colab": {
          "base_uri": "https://localhost:8080/"
        },
        "id": "WpZd9a1SwruU",
        "outputId": "5d1701bc-e865-4ea1-a1a3-84b7c4c0feec"
      },
      "execution_count": 32,
      "outputs": [
        {
          "output_type": "stream",
          "name": "stdout",
          "text": [
            "Mean RMSE:  0.004188287119678128\n"
          ]
        }
      ]
    },
    {
      "cell_type": "markdown",
      "source": [
        "###6 Month"
      ],
      "metadata": {
        "id": "MNy0ktTQ7LqC"
      }
    },
    {
      "cell_type": "code",
      "source": [
        "from sklearn.ensemble import VotingRegressor\n",
        "from sklearn.model_selection import cross_val_score\n",
        "from sklearn.svm import SVR\n",
        "from sklearn.linear_model import Lasso\n",
        "from sklearn.ensemble import RandomForestRegressor\n",
        "\n",
        "SVM_6m = SVR(degree = 2, kernel = 'linear')\n",
        "lasso_6m = Lasso(alpha=0.001)\n",
        "RF_6m = RandomForestRegressor(max_depth = 10, n_estimators = 200)\n",
        "ensemble_6m = VotingRegressor([('svm', SVM_6m), ('lasso', lasso_6m), ('rf', RF_6m)], n_jobs=-1)\n",
        "cv_scores = cross_val_score(ensemble_6m, X_6m_ready, y_6m_train, cv=10, scoring='neg_root_mean_squared_error')\n",
        "print(\"Mean RMSE: \", -cv_scores.mean())"
      ],
      "metadata": {
        "colab": {
          "base_uri": "https://localhost:8080/"
        },
        "id": "8zpCjK1p7a7b",
        "outputId": "ef5fc0eb-17e6-4ad4-d6be-1594f518c0ac"
      },
      "execution_count": 33,
      "outputs": [
        {
          "output_type": "stream",
          "name": "stdout",
          "text": [
            "Mean RMSE:  0.007280247030022555\n"
          ]
        }
      ]
    },
    {
      "cell_type": "markdown",
      "source": [
        "###9 Month"
      ],
      "metadata": {
        "id": "_T7GLfw17Wm_"
      }
    },
    {
      "cell_type": "code",
      "source": [
        "from sklearn.ensemble import VotingRegressor\n",
        "from sklearn.model_selection import cross_val_score\n",
        "from sklearn.svm import SVR\n",
        "from sklearn.linear_model import Lasso\n",
        "from sklearn.ensemble import RandomForestRegressor\n",
        "\n",
        "SVM_9m = SVR(degree = 2, kernel = 'linear')\n",
        "lasso_9m = Lasso(alpha=0.001)\n",
        "RF_9m = RandomForestRegressor(max_depth = 10, n_estimators = 200)\n",
        "ensemble_9m = VotingRegressor([('svm', SVM_9m), ('lasso', lasso_9m), ('rf', RF_9m)], n_jobs=-1)\n",
        "cv_scores = cross_val_score(ensemble_9m, X_9m_ready, y_9m_train, cv=10, scoring='neg_root_mean_squared_error')\n",
        "print(\"Mean RMSE: \", -cv_scores.mean())"
      ],
      "metadata": {
        "colab": {
          "base_uri": "https://localhost:8080/"
        },
        "id": "-20mxI8N7zWj",
        "outputId": "cf1b0699-e9a6-41cc-ef38-949a2b128281"
      },
      "execution_count": 34,
      "outputs": [
        {
          "output_type": "stream",
          "name": "stdout",
          "text": [
            "Mean RMSE:  0.00969509644944266\n"
          ]
        }
      ]
    },
    {
      "cell_type": "markdown",
      "source": [
        "# Testing"
      ],
      "metadata": {
        "id": "X22Ep7l08Ixi"
      }
    },
    {
      "cell_type": "markdown",
      "source": [
        "##  Baseline"
      ],
      "metadata": {
        "id": "vOuLyKSE92lb"
      }
    },
    {
      "cell_type": "code",
      "source": [
        "from sklearn.metrics import make_scorer, mean_squared_error\n",
        "\n",
        "def BLR_Testing(train_data_x,train_data_y,test_data_x,test_data_y):\n",
        "    BLR = LinearRegression()\n",
        "    BLR.fit(train_data_x,train_data_y)\n",
        "    y_predict = BLR.predict(test_data_x)\n",
        "    score = mean_squared_error(test_data_y, y_predict, squared=False)\n",
        "    return score\n"
      ],
      "metadata": {
        "id": "2G0Lm_329mFD"
      },
      "execution_count": 35,
      "outputs": []
    },
    {
      "cell_type": "code",
      "source": [
        "s_BLR_3m = BLR_Testing(X_3m_train,y_3m_train,X_3m_test,y_3m_test)\n",
        "s_BLR_6m = BLR_Testing(X_6m_train,y_6m_train,X_6m_test,y_6m_test)\n",
        "s_BLR_9m = BLR_Testing(X_9m_train,y_9m_train,X_9m_test,y_9m_test)\n",
        "print(\"Testing accuracy of baseline model for 3 month prediction:\",s_BLR_3m)\n",
        "print(\"Testing accuracy of baseline model for 6 month prediction:\",s_BLR_6m)\n",
        "print(\"Testing accuracy of baseline model for 9 month prediction:\",s_BLR_9m)"
      ],
      "metadata": {
        "colab": {
          "base_uri": "https://localhost:8080/"
        },
        "id": "0_wdCBlo97Dr",
        "outputId": "7b860498-cacf-4cb5-d075-a121bbba8d36"
      },
      "execution_count": 36,
      "outputs": [
        {
          "output_type": "stream",
          "name": "stdout",
          "text": [
            "Testing accuracy of baseline model for 3 month prediction: 0.005066539124267962\n",
            "Testing accuracy of baseline model for 6 month prediction: 0.00999036408336882\n",
            "Testing accuracy of baseline model for 9 month prediction: 0.01243814119253665\n"
          ]
        }
      ]
    },
    {
      "cell_type": "markdown",
      "source": [
        "##  Linear Regression"
      ],
      "metadata": {
        "id": "VtJlsWuVEp3Y"
      }
    },
    {
      "cell_type": "code",
      "source": [
        "from sklearn.metrics import make_scorer, mean_squared_error\n",
        "from sklearn.linear_model import LinearRegression\n",
        "from sklearn.model_selection import cross_val_score\n",
        "\n",
        "def LR_Testing(train_data_x,train_data_y,test_data_x,test_data_y):\n",
        "    LR = LinearRegression()\n",
        "    LR.fit(train_data_x,train_data_y)\n",
        "    y_predict = LR.predict(test_data_x)\n",
        "    score = mean_squared_error(test_data_y, y_predict, squared=False)\n",
        "    return score"
      ],
      "metadata": {
        "id": "tkLSNI6KjyaE"
      },
      "execution_count": 37,
      "outputs": []
    },
    {
      "cell_type": "code",
      "source": [
        "s_LR_3m = LR_Testing(X_3m_ready,y_3m_train,X_3m_test2,y_3m_test)\n",
        "s_LR_6m = LR_Testing(X_6m_ready,y_6m_train,X_6m_test2,y_6m_test)\n",
        "s_LR_9m = LR_Testing(X_9m_ready,y_9m_train,X_9m_test2,y_9m_test)\n",
        "print(\"Testing accuracy of linear regression with treated data for 3 month prediction:\",s_LR_3m)\n",
        "print(\"Testing accuracy of linear regression with treated data for 6 month prediction:\",s_LR_6m)\n",
        "print(\"Testing accuracy of linear regression with treated data for 9 month prediction:\",s_LR_9m)"
      ],
      "metadata": {
        "colab": {
          "base_uri": "https://localhost:8080/"
        },
        "id": "vNJEcb2AkBDc",
        "outputId": "d081202c-a3b4-41c5-b1a5-1046ca8fcc7a"
      },
      "execution_count": 38,
      "outputs": [
        {
          "output_type": "stream",
          "name": "stdout",
          "text": [
            "Testing accuracy of linear regression with treated data for 3 month prediction: 0.004407943974515175\n",
            "Testing accuracy of linear regression with treated data for 6 month prediction: 0.009013973095632467\n",
            "Testing accuracy of linear regression with treated data for 9 month prediction: 0.012924290080752075\n"
          ]
        }
      ]
    },
    {
      "cell_type": "markdown",
      "source": [
        "##  Lasso"
      ],
      "metadata": {
        "id": "A0PDPVzlk6hE"
      }
    },
    {
      "cell_type": "code",
      "source": [
        "from sklearn.linear_model import Lasso\n",
        "from sklearn.model_selection import cross_val_score\n",
        "from sklearn.preprocessing import PolynomialFeatures\n",
        "from sklearn.metrics import make_scorer, mean_squared_error\n",
        "\n",
        "def LASSO_Testing(train_data_x,train_data_y,test_data_x,test_data_y):\n",
        "  lasso = Lasso(alpha = 0.001)\n",
        "  lasso.fit(train_data_x,train_data_y)\n",
        "  y_predict = lasso.predict(test_data_x)\n",
        "  score = mean_squared_error(test_data_y, y_predict, squared=False)\n",
        "  return score\n"
      ],
      "metadata": {
        "id": "dFjps9h7k_cP"
      },
      "execution_count": 39,
      "outputs": []
    },
    {
      "cell_type": "code",
      "source": [
        "s_Lasso_3m = LASSO_Testing(X_3m_ready,y_3m_train,X_3m_test2,y_3m_test)\n",
        "s_Lasso_6m = LASSO_Testing(X_6m_ready,y_6m_train,X_6m_test2,y_6m_test)\n",
        "s_Lasso_9m = LASSO_Testing(X_9m_ready,y_9m_train,X_9m_test2,y_9m_test)\n",
        "print(\"Testing accuracy of Lasso with treated data for 3 month prediction:\",s_Lasso_3m)\n",
        "print(\"Testing accuracy of Lasso with treated data for 6 month prediction:\",s_Lasso_6m)\n",
        "print(\"Testing accuracy of Lasso with treated data for 9 month prediction:\",s_Lasso_9m)"
      ],
      "metadata": {
        "colab": {
          "base_uri": "https://localhost:8080/"
        },
        "id": "N3-LBH1VleRn",
        "outputId": "b2b8c828-867b-42c0-c247-4154b17934e2"
      },
      "execution_count": 40,
      "outputs": [
        {
          "output_type": "stream",
          "name": "stdout",
          "text": [
            "Testing accuracy of Lasso with treated data for 3 month prediction: 0.004457512112370138\n",
            "Testing accuracy of Lasso with treated data for 6 month prediction: 0.008794893747627113\n",
            "Testing accuracy of Lasso with treated data for 9 month prediction: 0.011767514831428974\n"
          ]
        }
      ]
    },
    {
      "cell_type": "markdown",
      "source": [
        "##  SVM"
      ],
      "metadata": {
        "id": "zv7pSEqnl14D"
      }
    },
    {
      "cell_type": "code",
      "source": [
        "from sklearn.model_selection import cross_val_score\n",
        "from sklearn.svm import SVR\n",
        "from sklearn.metrics import make_scorer, mean_squared_error\n",
        "def SVM_Testing(train_data_x,train_data_y,test_data_x,test_data_y):\n",
        "  SVM = SVR(kernel='linear',degree = 2)\n",
        "  SVM.fit(train_data_x,train_data_y)\n",
        "  y_predict = SVM.predict(test_data_x)\n",
        "  score = mean_squared_error(test_data_y, y_predict, squared=False)\n",
        "  return score"
      ],
      "metadata": {
        "id": "7nOHXCInl5w0"
      },
      "execution_count": 41,
      "outputs": []
    },
    {
      "cell_type": "code",
      "source": [
        "s_SVM_3m = SVM_Testing(X_3m_ready,y_3m_train,X_3m_test2,y_3m_test)\n",
        "s_SVM_6m = SVM_Testing(X_6m_ready,y_6m_train,X_6m_test2,y_6m_test)\n",
        "s_SVM_9m = SVM_Testing(X_9m_ready,y_9m_train,X_9m_test2,y_9m_test)\n",
        "print(\"Testing accuracy of SVM with treated data for 3 month prediction:\",s_SVM_3m)\n",
        "print(\"Testing accuracy of SVM with treated data for 6 month prediction:\",s_SVM_6m)\n",
        "print(\"Testing accuracy of SVM with treated data for 9 month prediction:\",s_SVM_9m)"
      ],
      "metadata": {
        "colab": {
          "base_uri": "https://localhost:8080/"
        },
        "id": "vxsADe_Rmts1",
        "outputId": "5d3963f8-19f6-4a13-fefa-9c75bece9c79"
      },
      "execution_count": 42,
      "outputs": [
        {
          "output_type": "stream",
          "name": "stdout",
          "text": [
            "Testing accuracy of SVM with treated data for 3 month prediction: 0.004893851920596717\n",
            "Testing accuracy of SVM with treated data for 6 month prediction: 0.010196197143559892\n",
            "Testing accuracy of SVM with treated data for 9 month prediction: 0.013653215008652833\n"
          ]
        }
      ]
    },
    {
      "cell_type": "markdown",
      "source": [
        "##  Random Forest"
      ],
      "metadata": {
        "id": "E2GIrvzrnHcH"
      }
    },
    {
      "cell_type": "code",
      "source": [
        "from sklearn.ensemble import RandomForestRegressor\n",
        "from sklearn.model_selection import cross_val_score\n",
        "from sklearn.metrics import make_scorer, mean_squared_error\n",
        "def RF_Testing(train_data_x,train_data_y,test_data_x,test_data_y):\n",
        "  RF = RandomForestRegressor(n_estimators = 300, max_depth = 10)\n",
        "  RF.fit(train_data_x,train_data_y)\n",
        "  y_predict = RF.predict(test_data_x)\n",
        "  score = mean_squared_error(test_data_y, y_predict, squared=False)\n",
        "  return score"
      ],
      "metadata": {
        "id": "28Zzvw7AnLw0"
      },
      "execution_count": 43,
      "outputs": []
    },
    {
      "cell_type": "code",
      "source": [
        "s_RF_3m = RF_Testing(X_3m_ready,y_3m_train,X_3m_test2,y_3m_test)\n",
        "s_RF_6m = RF_Testing(X_6m_ready,y_6m_train,X_6m_test2,y_6m_test)\n",
        "s_RF_9m = RF_Testing(X_9m_ready,y_9m_train,X_9m_test2,y_9m_test)\n",
        "print(\"Testing accuracy of Random Forest with treated data for 3 month prediction:\",s_RF_3m)\n",
        "print(\"Testing accuracy of Random Forest with treated data for 6 month prediction:\",s_RF_6m)\n",
        "print(\"Testing accuracy of Random Forest with treated data for 9 month prediction:\",s_RF_9m)"
      ],
      "metadata": {
        "colab": {
          "base_uri": "https://localhost:8080/"
        },
        "id": "aQTuSeoynlFU",
        "outputId": "3e234dfe-c934-497e-ac72-9ea7aeb8a5e8"
      },
      "execution_count": 44,
      "outputs": [
        {
          "output_type": "stream",
          "name": "stdout",
          "text": [
            "Testing accuracy of Random Forest with treated data for 3 month prediction: 0.004735195174034446\n",
            "Testing accuracy of Random Forest with treated data for 6 month prediction: 0.009665559290584354\n",
            "Testing accuracy of Random Forest with treated data for 9 month prediction: 0.01478260198166765\n"
          ]
        }
      ]
    },
    {
      "cell_type": "markdown",
      "source": [
        "##  Ensemble"
      ],
      "metadata": {
        "id": "3BNTv0ZNn_IR"
      }
    },
    {
      "cell_type": "code",
      "source": [
        "from sklearn.ensemble import VotingRegressor\n",
        "from sklearn.model_selection import cross_val_score\n",
        "from sklearn.svm import SVR\n",
        "from sklearn.linear_model import Lasso\n",
        "from sklearn.ensemble import RandomForestRegressor\n",
        "from sklearn.metrics import make_scorer, mean_squared_error\n",
        "def En_Testing(train_data_x,train_data_y,test_data_x,test_data_y):\n",
        "  SVM_t = SVR(degree = 2, kernel = 'linear')\n",
        "  lasso_t = Lasso(alpha=0.001)\n",
        "  RF_t = RandomForestRegressor(max_depth = 10, n_estimators = 200)\n",
        "  ensemble = VotingRegressor([('svm', SVM_t), ('lasso', lasso_t), ('rf', RF_t)], n_jobs=-1)\n",
        "  ensemble.fit(train_data_x,train_data_y)\n",
        "  y_predict = ensemble.predict(test_data_x)\n",
        "  score = mean_squared_error(test_data_y, y_predict, squared=False)\n",
        "  return score"
      ],
      "metadata": {
        "id": "YGGitWdqoFUT"
      },
      "execution_count": 45,
      "outputs": []
    },
    {
      "cell_type": "code",
      "source": [
        "s_En_3m = En_Testing(X_3m_ready,y_3m_train,X_3m_test2,y_3m_test)\n",
        "s_En_6m = En_Testing(X_6m_ready,y_6m_train,X_6m_test2,y_6m_test)\n",
        "s_En_9m = En_Testing(X_9m_ready,y_9m_train,X_9m_test2,y_9m_test)\n",
        "print(\"Testing accuracy of Ensemble with treated data for 3 month prediction:\",s_En_3m)\n",
        "print(\"Testing accuracy of Ensemble with treated data for 6 month prediction:\",s_En_6m)\n",
        "print(\"Testing accuracy of Ensemble with treated data for 9 month prediction:\",s_En_9m)"
      ],
      "metadata": {
        "colab": {
          "base_uri": "https://localhost:8080/"
        },
        "id": "1yPTvF2aoulE",
        "outputId": "92f05ea1-7ada-4f63-ee23-83f6127ca9e2"
      },
      "execution_count": 46,
      "outputs": [
        {
          "output_type": "stream",
          "name": "stdout",
          "text": [
            "Testing accuracy of Ensemble with treated data for 3 month prediction: 0.004588002795736894\n",
            "Testing accuracy of Ensemble with treated data for 6 month prediction: 0.009132829338926481\n",
            "Testing accuracy of Ensemble with treated data for 9 month prediction: 0.012751374348459634\n"
          ]
        }
      ]
    },
    {
      "cell_type": "markdown",
      "source": [
        "# Conclusion"
      ],
      "metadata": {
        "id": "HzdAqktSpEli"
      }
    },
    {
      "cell_type": "markdown",
      "source": [
        "See Reports for details"
      ],
      "metadata": {
        "id": "Q5geg4XzpIsk"
      }
    }
  ]
}